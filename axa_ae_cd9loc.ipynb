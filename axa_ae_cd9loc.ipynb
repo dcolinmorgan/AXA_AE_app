{
  "nbformat": 4,
  "nbformat_minor": 0,
  "metadata": {
    "colab": {
      "provenance": [],
      "toc_visible": true,
      "mount_file_id": "11JzOReSGxNfGLXnHFajxmkd1Rh2G6y73",
      "authorship_tag": "ABX9TyMAm8zX5u1jN3Z8tTTjyUfc",
      "include_colab_link": true
    },
    "kernelspec": {
      "name": "python3",
      "display_name": "Python 3"
    },
    "language_info": {
      "name": "python"
    },
    "accelerator": "GPU"
  },
  "cells": [
    {
      "cell_type": "markdown",
      "metadata": {
        "id": "view-in-github",
        "colab_type": "text"
      },
      "source": [
        "<a href=\"https://colab.research.google.com/github/dcolinmorgan/AXA_AE_app/blob/main/axa_ae_cd9loc.ipynb\" target=\"_parent\"><img src=\"https://colab.research.google.com/assets/colab-badge.svg\" alt=\"Open In Colab\"/></a>"
      ]
    },
    {
      "cell_type": "code",
      "source": [
        "import pandas as pd, numpy as np\n",
        "import matplotlib.pyplot as plt"
      ],
      "metadata": {
        "id": "mG4xd_FeRvPe"
      },
      "execution_count": 1,
      "outputs": []
    },
    {
      "cell_type": "code",
      "source": [
        "from math import sqrt\n",
        "from numpy import concatenate\n",
        "from matplotlib import pyplot\n",
        "from pandas import read_csv\n",
        "from pandas import DataFrame\n",
        "from pandas import concat\n",
        "from sklearn.preprocessing import MinMaxScaler\n",
        "from sklearn.preprocessing import LabelEncoder\n",
        "from sklearn.metrics import mean_squared_error\n",
        "from keras.models import Sequential\n",
        "from keras.layers import Dense\n",
        "from keras.layers import LSTM\n",
        "\n",
        "# convert series to supervised learning\n",
        "def series_to_supervised(data, n_in=1, n_out=1, dropnan=True):\n",
        "\tn_vars = 1 if type(data) is list else data.shape[1]\n",
        "\tdf = DataFrame(data)\n",
        "\tcols, names = list(), list()\n",
        "\t# input sequence (t-n, ... t-1)\n",
        "\tfor i in range(n_in, 0, -1):\n",
        "\t\tcols.append(df.shift(i))\n",
        "\t\tnames += [('var%d(t-%d)' % (j+1, i)) for j in range(n_vars)]\n",
        "\t# forecast sequence (t, t+1, ... t+n)\n",
        "\tfor i in range(0, n_out):\n",
        "\t\tcols.append(df.shift(-i))\n",
        "\t\tif i == 0:\n",
        "\t\t\tnames += [('var%d(t)' % (j+1)) for j in range(n_vars)]\n",
        "\t\telse:\n",
        "\t\t\tnames += [('var%d(t+%d)' % (j+1, i)) for j in range(n_vars)]\n",
        "\t# put it all together\n",
        "\tagg = concat(cols, axis=1)\n",
        "\tagg.columns = names\n",
        "\t# drop rows with NaN values\n",
        "\tif dropnan:\n",
        "\t\tagg.dropna(inplace=True)\n",
        "\treturn agg\n"
      ],
      "metadata": {
        "id": "vRTQYjlmR6wq"
      },
      "execution_count": 2,
      "outputs": []
    },
    {
      "cell_type": "code",
      "execution_count": 4,
      "metadata": {
        "colab": {
          "base_uri": "https://localhost:8080/",
          "height": 321
        },
        "id": "NYOEhd0gRisc",
        "outputId": "a6fb0bef-207b-4664-ab9c-0b71a9e760d9"
      },
      "outputs": [
        {
          "output_type": "stream",
          "name": "stdout",
          "text": [
            "(2555, 7, 8) (2555, 1) (3648, 7, 8) (3648, 1)\n"
          ]
        },
        {
          "output_type": "stream",
          "name": "stderr",
          "text": [
            "WARNING:tensorflow:Layer lstm_1 will not use cuDNN kernels since it doesn't meet the criteria. It will use a generic GPU kernel as fallback when running on GPU.\n"
          ]
        },
        {
          "output_type": "display_data",
          "data": {
            "text/plain": [
              "<Figure size 432x288 with 1 Axes>"
            ],
            "image/png": "[encoded data removed]"
          },
          "metadata": {
            "needs_background": "light"
          }
        }
      ],
      "source": [
        "\n",
        "# load dataset\n",
        "# dataset = read_csv('pollution.csv', header=0, index_col=0)\n",
        "# data=pd.read_parquet('/content/drive/MyDrive/hku/AXA/AE_AXA_poll-ae.parquet')#, compression='GZIP')#.mode('overwrite')\n",
        "# data=data[data['cd9_loc']=='Queen Elizabeth Hospital']\n",
        "# site='QEH'\n",
        "# data=data.groupby(['cd9_loc','date']).agg('mean')[['pm25','pm10','o3','no2','so2','co','age','sex','diag1']]\n",
        "# data=data.groupby(['date']).agg('mean')[['pm25','pm10','o3','no2','so2','co','diag1']]\n",
        "# data=data[['pm25','pm10','o3','no2','so2','co','age','sex','diag1']]\n",
        "# data=data.groupby(['ds']).agg({'pm25':'mean','pm10':'mean','o3':'mean','no2':'mean','so2':'mean','co':'mean','age':'mean','sex':'mean','diag1':'mean'})\n",
        "\n",
        "data=pd.read_parquet('/content/drive/MyDrive/hku/AXA/AE_AXA_poll-ae.parquet')#, compression='GZIP')#.mode('overwrite')\n",
        "aa=data['date']\n",
        "data=data.groupby(['ds']).agg({'pm25':'mean','pm10':'mean','o3':'mean','no2':'mean','so2':'mean','co':'mean','age':'mean','sex':'mean','diag1':'mean'})\n",
        "data.index=aa\n",
        "\n",
        "data.age=np.round(data.age)\n",
        "data.sex=np.round(data.sex)\n",
        "# first_column = data.pop('diag1') ## comment for avg all loc\n",
        "# data.insert(0, 'diag1', first_column) ## comment for avg all loc\n",
        "\n",
        "dataset=data.values\n",
        "\n",
        "scaler = MinMaxScaler(feature_range=(0, 1))\n",
        "scaled = scaler.fit_transform(dataset)\n",
        "\n",
        "x_scaled = scaled[:,:data.shape[1]-1].astype('float32') #.drop('diag1',axis=1).values.astype('float32')\n",
        "y_scaled = scaled[:,data.shape[1]-1:].astype('float32') #['diag1'].values.astype('float32')\n",
        "# integer encode direction\n",
        "encoder = LabelEncoder()\n",
        "# values[:,4] = encoder.fit_transform(values[:,4])\n",
        "# ensure all data is float\n",
        "# values = values.astype('float32')\n",
        "# normalize features\n",
        "\n",
        "\n",
        "# y_scaled = scaler.fit_transform(y_values)\n",
        "\n",
        "# specify the number of lag days\n",
        "n_days = 7\n",
        "n_features =  x_scaled.shape[1]\n",
        "# frame as supervised learning\n",
        "\n",
        "x_reframed = series_to_supervised(x_scaled, n_days, 1).values\n",
        "y_reframed = y_scaled #series_to_supervised(y_scaled, n_days, 1).values\n",
        "y_reframed = y_reframed[:x_reframed.shape[0]]\n",
        "# print(reframed.shape)\n",
        "\n",
        "# drop=np.arange(n_features+1,(2*n_features),1)\n",
        "# reframed.drop(reframed.columns[drop], axis=1, inplace=True)\n",
        "\n",
        "\n",
        "# split into train and test sets\n",
        "# values = reframed.values\n",
        "\n",
        "n_train_days = 365 * 7 #round((len(x_scaled)/365)*.5) #* 24\n",
        "n_obs = n_days * n_features\n",
        "train_X = x_reframed[:n_train_days, :]\n",
        "test_X = x_reframed[n_train_days:, :]\n",
        "\n",
        "train_y = y_reframed[:n_train_days]\n",
        "test_y = y_reframed[n_train_days:]\n",
        "\n",
        "# split into input and outputs\n",
        "\n",
        "train_X = train_X[:, :n_obs]#, train_y[:n_obs]\n",
        "test_X = test_X[:, :n_obs]#, test_y[:n_obs]\n",
        "\n",
        "# print(train_X.shape, len(train_X), train_y.shape)\n",
        "# reshape input to be 3D [samples, timesteps, features]\n",
        "train_X = train_X.reshape((train_X.shape[0], n_days, n_features))\n",
        "test_X = test_X.reshape((test_X.shape[0], n_days, n_features))\n",
        "print(train_X.shape, train_y.shape, test_X.shape, test_y.shape)\n",
        "\n",
        "# # design network\n",
        "model = Sequential()\n",
        "model.add(LSTM(96, input_shape=(train_X.shape[1], train_X.shape[2]),return_sequences=True))\n",
        "# model.add(LSTM(180, activation='relu',return_sequences=True))\n",
        "# model.add(LSTM(96, activation='relu',return_sequences=True))\n",
        "model.add(LSTM(48, activation='relu'))\n",
        "model.add(Dense(1))\n",
        "model.compile(loss='mae', optimizer='adam')\n",
        "# fit network\n",
        "history = model.fit(train_X, train_y, epochs=50, batch_size=72, validation_data=(test_X, test_y), verbose=0, shuffle=True)\n",
        "# plot history\n",
        "pyplot.plot(history.history['loss'], label='train')\n",
        "pyplot.plot(history.history['val_loss'], label='test')\n",
        "pyplot.legend()\n",
        "pyplot.show()\n"
      ]
    },
    {
      "cell_type": "code",
      "source": [
        "# make a prediction\n",
        "yhat = model.predict(test_X)"
      ],
      "metadata": {
        "id": "Utl4yPYPSCCW"
      },
      "execution_count": 5,
      "outputs": []
    },
    {
      "cell_type": "code",
      "source": [
        "test_X2 = test_X.reshape((test_X.shape[0], n_days*n_features))\n",
        "# # invert scaling for forecast\n",
        "inv_yhat = concatenate((yhat, test_X2[:, -(n_features):]), axis=1)\n",
        "inv_yhat = scaler.inverse_transform(inv_yhat)\n",
        "inv_yhat = inv_yhat[:,0]\n",
        "# invert scaling for actual\n",
        "\n",
        "\n",
        "test_y2 = test_y.reshape(test_y.shape[0]*test_y.shape[1])\n",
        "inv_y = concatenate((test_y, test_X2[:, -(n_features):]), axis=1)\n",
        "# inv_y = scaler.inverse_transform(inv_y)\n",
        "inv_y = inv_y[:,0]\n",
        "\n",
        "print([inv_yhat.shape,test_y2.shape,inv_y.shape])\n",
        "\n",
        "\n",
        "# calculate MSE\n",
        "mse = (mean_squared_error(inv_y, inv_yhat))\n",
        "print('Test MSE: %.3f' % mse)\n",
        "\n",
        "plt.plot(np.rint(inv_y), alpha = .5,label='valid')\n",
        "plt.plot(np.double(inv_yhat)/30, alpha = .5,label='pred')\n",
        "# plt.title(site+'_'+var+'_'+YY+ 'MSE: '+str(mse))\n",
        "plt.legend()\n",
        "# # plt.savefig('NNtest/'+site+'_'+var+'_'+YY+'_mse.png')\n",
        "# plt.clf()\n",
        "\n"
      ],
      "metadata": {
        "colab": {
          "base_uri": "https://localhost:8080/",
          "height": 319
        },
        "id": "kLZ9VolcSCEx",
        "outputId": "670bfad4-e588-4d60-b9b9-9e409e1640ed"
      },
      "execution_count": 6,
      "outputs": [
        {
          "output_type": "stream",
          "name": "stdout",
          "text": [
            "[(3648,), (3648,), (3648,)]\n",
            "Test MSE: 719.436\n"
          ]
        },
        {
          "output_type": "execute_result",
          "data": {
            "text/plain": [
              "<matplotlib.legend.Legend at 0x7f0cb472cc90>"
            ]
          },
          "metadata": {},
          "execution_count": 6
        },
        {
          "output_type": "display_data",
          "data": {
            "text/plain": [
              "<Figure size 432x288 with 1 Axes>"
            ],
            "image/png": "[encoded data removed]"
          },
          "metadata": {
            "needs_background": "light"
          }
        }
      ]
    },
    {
      "cell_type": "code",
      "source": [],
      "metadata": {
        "id": "R7zusuD6Yi-W"
      },
      "execution_count": 6,
      "outputs": []
    },
    {
      "cell_type": "code",
      "source": [],
      "metadata": {
        "id": "fGCpNuZevxr-"
      },
      "execution_count": null,
      "outputs": []
    }
  ]
}