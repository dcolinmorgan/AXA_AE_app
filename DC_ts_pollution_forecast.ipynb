{
 "cells": [
  {
   "cell_type": "markdown",
   "metadata": {
    "colab_type": "text",
    "id": "view-in-github"
   },
   "source": [
    "<a href=\"https://colab.research.google.com/github/dcolinmorgan/AXA_AE_app/blob/main/DC_ts_pollution_forecast.ipynb\" target=\"_parent\"><img src=\"https://colab.research.google.com/assets/colab-badge.svg\" alt=\"Open In Colab\"/></a>"
   ]
  },
  {
   "cell_type": "markdown",
   "metadata": {
    "id": "6_rLJgj7DRZF"
   },
   "source": [
    "# Pollution effect on lung health forecasting using graph neural networks and LSTM\n",
    "\n",
    "**Author:** [Daniel Morgan](https://www.linkedin.com/in/dcolinmorgan/)<br>\n",
    "**Date created:** 2022/07/28<br>\n",
    "**Last modified:** 2022/07/28<br>\n",
    "**Description:** This example demonstrates how to do timeseries forecasting over graphs."
   ]
  },
  {
   "cell_type": "markdown",
   "metadata": {
    "id": "25wdpsK0DRZR"
   },
   "source": [
    "## Setup"
   ]
  },
  {
   "cell_type": "code",
   "execution_count": 1,
   "metadata": {
    "id": "bgAhNakmDRZS"
   },
   "outputs": [],
   "source": [
    "import pandas as pd\n",
    "import numpy as np\n",
    "import os\n",
    "# !pip install umap-learn\n",
    "# !pip install hdbscan\n",
    "# import umap\n",
    "# import hdbscan\n",
    "import networkx as nx\n",
    "\n",
    "import sklearn.cluster as cluster\n",
    "import typing\n",
    "import matplotlib.pyplot as plt\n",
    "import functools,glob,pickle,os,collections,gzip\n",
    "from geopy.geocoders import Nominatim\n",
    "import geopy.distance\n",
    "import tensorflow as tf\n",
    "from tensorflow import keras\n",
    "from tensorflow.keras import layers"
   ]
  },
  {
   "cell_type": "code",
   "execution_count": 2,
   "metadata": {
    "colab": {
     "base_uri": "https://localhost:8080/"
    },
    "id": "YDM1ysEeFD2Y",
    "outputId": "30f38a1b-198d-44de-cf2b-2727e239d1f1"
   },
   "outputs": [
    {
     "name": "stdout",
     "output_type": "stream",
     "text": [
      "Drive already mounted at /content/drive; to attempt to forcibly remount, call drive.mount(\"/content/drive\", force_remount=True).\n"
     ]
    }
   ],
   "source": [
    "from google.colab import drive\n",
    "drive.mount('/content/drive')"
   ]
  },
  {
   "cell_type": "code",
   "execution_count": 30,
   "metadata": {
    "colab": {
     "base_uri": "https://localhost:8080/"
    },
    "id": "M7tAw7ijho6e",
    "outputId": "e0aeb985-4f7c-4bf5-c593-dc67980a0825"
   },
   "outputs": [
    {
     "name": "stderr",
     "output_type": "stream",
     "text": [
      "/usr/local/lib/python3.7/dist-packages/pandas/util/_decorators.py:311: ParserWarning: Falling back to the 'python' engine because the 'c' engine does not support regex separators (separators > 1 char and different from '\\s+' are interpreted as regex); you can avoid this warning by specifying engine='python'.\n",
      "  return func(*args, **kwargs)\n",
      "/usr/local/lib/python3.7/dist-packages/ipykernel_launcher.py:51: SettingWithCopyWarning: \n",
      "A value is trying to be set on a copy of a slice from a DataFrame.\n",
      "Try using .loc[row_indexer,col_indexer] = value instead\n",
      "\n",
      "See the caveats in the documentation: https://pandas.pydata.org/pandas-docs/stable/user_guide/indexing.html#returning-a-view-versus-a-copy\n",
      "/usr/local/lib/python3.7/dist-packages/ipykernel_launcher.py:52: SettingWithCopyWarning: \n",
      "A value is trying to be set on a copy of a slice from a DataFrame.\n",
      "Try using .loc[row_indexer,col_indexer] = value instead\n",
      "\n",
      "See the caveats in the documentation: https://pandas.pydata.org/pandas-docs/stable/user_guide/indexing.html#returning-a-view-versus-a-copy\n",
      "/usr/local/lib/python3.7/dist-packages/pandas/core/frame.py:5244: SettingWithCopyWarning: \n",
      "A value is trying to be set on a copy of a slice from a DataFrame\n",
      "\n",
      "See the caveats in the documentation: https://pandas.pydata.org/pandas-docs/stable/user_guide/indexing.html#returning-a-view-versus-a-copy\n",
      "  method=method,\n"
     ]
    }
   ],
   "source": [
    "# !wget https://github.com/dcolinmorgan/AXA_AE_app/raw/main/axa_p.zip\n",
    "# !7z x /content/axa_p.zip\n",
    "# !git clone https://github.com/dcolinmorgan/aqi-stations-scraper.git\n",
    "\n",
    "df2=pd.read_parquet('/content/AE_AXA_dat_full.parquet')\n",
    "\n",
    "\n",
    "# list_a = ['pneumonia', 'COPD','asthma','resp','lung','pulm']#,'~Cancer']\n",
    "# list_b = ['Cancer']\n",
    "df2.columns=['pat_id','cd9_loc','sess','sex','age','cd9_code','mini_loc','loc1','date','tmp','diag1','diag2','tmp']\n",
    "\n",
    "# df2=df[df['diag1'].isin(list_a)]\n",
    "# df2 = df[df['diag1'].str.contains('|'.join(list_a))]\n",
    "\n",
    "# df.diag1, df.diag2 = np.where(df.diag1.str.contains('None'), [df.diag2, df.diag1], [df.diag1, df.diag2])\n",
    "# del df['sess'], df['tmp'], df['diag2']\n",
    "# df=df[~df['diag1'].isna()]\n",
    "\n",
    "# df2 = df[df['diag1'].str.contains('|'.join(list_a))]\n",
    "\n",
    "df2.replace({'RH':'Ruttonjee Hospital'},inplace=True)\n",
    "df2.replace({'PYN':'Pamela Youde Nethersole Eastern Hospital'},inplace=True)\n",
    "df2.replace({'QEH':'Queen Elizabeth Hospital'},inplace=True)\n",
    "df2.replace({'CMC':'Caritas Medical Centre'},inplace=True)\n",
    "df2.replace({'KWH':'Kwong Wah Hospital'},inplace=True)\n",
    "df2.replace({'TMH':'Tuen Mun Hospital'},inplace=True)\n",
    "df2.replace({'PWH':'Prince of Wales Hospital'},inplace=True)\n",
    "df2.replace({'NDH':'North District Hospital'},inplace=True)\n",
    "df2.replace({'YCH':'Yan Chai Hospital'},inplace=True)\n",
    "df2.replace({'UCH':'United Christian Hospital'},inplace=True)\n",
    "df2.replace({'QMH':'Queen Mary Hospital'},inplace=True)\n",
    "df2.replace({'PWH':'Princess Margaret Hospital'},inplace=True)\n",
    "df2.replace({'POH':'Pok Oi Hospital'},inplace=True)\n",
    "df2.replace({'TKO':'Tseung Kwan O Hospital'},inplace=True)\n",
    "df2.replace({'AHN':'Alice Ho Miu Ling Nethersole Hospital'},inplace=True)\n",
    "df2.replace({'SJH':'St. John Hospital'},inplace=True)\n",
    "df2.replace({'NLT':'North Lantau Hospital'},inplace=True)\n",
    "df2.replace({'TSH':'Tang Shiu Kin Hospital'},inplace=True)\n",
    "df2.replace({'PMH':'Princess Margaret Hospital'},inplace=True)\n",
    "\n",
    "\n",
    "#organize\n",
    "cc=pd.DataFrame()#(columns=['date','pm25','pm10','o3','no2','so2','co','loc'])\n",
    "files=glob.glob('/content/aqi-stations-scraper/data/japan-aqi/*')\n",
    "for file in files:\n",
    "    data=pd.read_csv(file,sep=' |,')\n",
    "    data['loc1']=os.path.basename(file).split(',')[0]\n",
    "    cc=cc.append(data)\n",
    "\n",
    "data2=cc[['date','pm25','pm10','o3','no2','so2','co','loc1']]\n",
    "data2['loc1']=data2['loc1'].str.upper().replace({'-':' '},regex=True)\n",
    "data2['date']=pd.to_datetime(data2['date'])\n",
    "\n",
    "geolocator = Nominatim(user_agent=\"example app\")\n",
    "df_loc=pd.DataFrame(columns=['lat','long','name'])\n",
    "for ii,i in enumerate(pd.unique(df2['cd9_loc'])):\n",
    "    a,b,c=geolocator.geocode(str(i)+\", Hong Kong\").point\n",
    "    df_loc[ii]=[a,b,i]\n",
    "df_loc=df_loc.transpose()\n",
    "df_loc.columns=['lat','long','name']\n",
    "df_loc=df_loc[3:]\n",
    "\n",
    "\n",
    "data2.replace('CENTRALNAYA STR','central',inplace=True)\n",
    "data2.replace('NORTH KHAYAM','sheung shui station',inplace=True)\n",
    "data2.replace('SOUTHERN','southern island',inplace=True)\n",
    "data2.replace('SOUTHERN PART OF CHENGYANG DISTRICT','chengyang',inplace=True)\n",
    "### possible to get PM data for Shek O, Blue Pool Rd and A Kung Gnam\n"
   ]
  },
  {
   "cell_type": "code",
   "execution_count": 31,
   "metadata": {
    "colab": {
     "base_uri": "https://localhost:8080/"
    },
    "id": "rz1fLgGAd51-",
    "outputId": "e0da11b1-5e2f-4419-abe7-c479e5c44c46"
   },
   "outputs": [
    {
     "name": "stdout",
     "output_type": "stream",
     "text": [
      "no location data for: CENTRAL SCHOOL\n",
      "no location data for: NORTH CHINA INSTITUTE OF AEROSPACE\n",
      "no location data for: NORTH WEST UNIVERSITY VAAL CAMPUS\n",
      "no location data for: NORTHWEST WATER COMPANY\n"
     ]
    }
   ],
   "source": [
    "data_loc=pd.DataFrame(columns=['lat','long','name'])\n",
    "for ii,i in enumerate(pd.unique(data2['loc1'])):\n",
    "    try:\n",
    "        a,b,c=geolocator.geocode(str(i)+\", Hong Kong\").point\n",
    "    except AttributeError:\n",
    "        print('no location data for: '+str(i))\n",
    "    data_loc[ii]=[a,b,i]\n",
    "data_loc=data_loc.transpose()\n",
    "data_loc.columns=['lat','long','name']\n",
    "data_loc=data_loc[3:]\n",
    "\n",
    "data_loc=data_loc[~data_loc.duplicated(['lat','long'],keep='first')]\n",
    "data_loc.reset_index(inplace=True)\n",
    "data_loc=data_loc[data_loc['name']!='chengyang']\n",
    "data_loc=df_loc.append(data_loc)[['lat','long','name']]\n",
    "\n",
    "data_loc.reset_index(inplace=True)\n",
    "\n",
    "# ## Cluster and take mean of locations lat and lon ##\n",
    "from sklearn.cluster import KMeans\n",
    "# import umap\n",
    "X=np.array(data_loc[['lat','long']],dtype='float64')\n",
    "k=18\n",
    "model = KMeans(n_clusters=k,n_init=20).fit(X)\n",
    "class_predictions=model.predict(X)\n",
    "# umap.UMAP(n_neighbors=k)\n",
    "data_loc['kmeans{k}'] = class_predictions\n",
    "\n",
    "JJJ=data_loc"
   ]
  },
  {
   "cell_type": "code",
   "execution_count": 32,
   "metadata": {
    "id": "dn7VA0egCd_C"
   },
   "outputs": [],
   "source": [
    "\n",
    "\n",
    "data_loc.lat=data_loc.lat.astype('float')\n",
    "data_loc.long=data_loc.long.astype('float')\n",
    "data_loc2=data_loc\n",
    "\n",
    "# data_loc=data_loc.groupby('kmeans{k}').mean()\n",
    "data_loc = data_loc.groupby('kmeans{k}').agg({\n",
    "   'name': lambda x: ','.join(set(x)),\n",
    "   'lat': 'mean',\n",
    "   'long': 'mean'\n",
    "}).reset_index()\n",
    "\n",
    "# geopy DOES use latlon configuration\n",
    "data_loc['latlon'] = list(zip(data_loc['lat'], data_loc['long']))\n",
    "\n",
    "d5=data2.merge(data_loc2,left_on='loc1',right_on='name')\n",
    "d5.rename(columns={'kmeans{k}':'kmeans'},inplace=True)\n",
    "d5=d5[['date','pm25','pm10','o3','no2','so2','co','loc1','kmeans','lat','long']]\n",
    "\n",
    "d6=data_loc2.merge(df2,left_on='name',right_on='cd9_loc')\n",
    "d6=d6[['date','cd9_loc','diag1','age','kmeans{k}']]\n",
    "d6.rename(columns={'kmeans{k}':'kmeans'},inplace=True)\n",
    "\n",
    "d5.date=d5.date.astype('str')\n",
    "d6.date=d6.date.astype('str')\n",
    "\n",
    "d7=d5.merge(d6,left_on=['date','kmeans'],right_on=['date','kmeans'])#,how='outer')\n"
   ]
  },
  {
   "cell_type": "code",
   "execution_count": 33,
   "metadata": {
    "colab": {
     "base_uri": "https://localhost:8080/"
    },
    "id": "hNvyksLsPZFP",
    "outputId": "2a7c0663-8b38-47a3-f2df-7637b4b16ae1"
   },
   "outputs": [
    {
     "data": {
      "text/plain": [
       "(13, 13)"
      ]
     },
     "execution_count": 33,
     "metadata": {},
     "output_type": "execute_result"
    }
   ],
   "source": [
    "###ADJACENCY MATRIX --> calculate from aggregated location lat/lon\n",
    "data_loc=data_loc[data_loc['name'].str.contains(',')]\n",
    "\n",
    "square = pd.DataFrame(\n",
    "    np.zeros((data_loc.shape[0], data_loc.shape[0])),\n",
    "    index=data_loc.index, columns=data_loc.index\n",
    ")\n",
    "\n",
    "def get_distance(col):\n",
    "    end = data_loc.loc[col.name, 'latlon']\n",
    "    return data_loc['latlon'].apply(geopy.distance.distance,\n",
    "                              args=(end,),\n",
    "                              ellipsoid='WGS-84'\n",
    "                             )\n",
    "distances = square.apply(get_distance, axis=1).T\n",
    "\n",
    "data_loc['src']=data_loc['name']\n",
    "data_loc['dst']=data_loc['name']\n",
    "\n",
    "# np.sum((distances<5)*1)\n",
    "D_D=pd.DataFrame((distances<5)*1)\n",
    "D_D.index=data_loc['src']\n",
    "D_D.columns=data_loc['dst']\n",
    "\n",
    "E_E=pd.DataFrame(D_D.stack())#.reset_index(inplace=True)\n",
    "# E_E.rename=['source','target']#.reset_index(inplace=True)#.rename(columns={'level_0':'Source','level_1':'Target', 0:'Weight'})\n",
    "E_E.reset_index(inplace=True)#\n",
    "distance_mat=E_E[E_E[0]>0]\n",
    "\n",
    "distance=distances\n",
    "distance.index=data_loc['src']\n",
    "distance.columns=data_loc['dst']\n",
    "distance=pd.DataFrame(distance.stack())\n",
    "distance.reset_index(inplace=True)\n",
    "\n",
    "#prepare for TF\n",
    "\n",
    "distances=distances.astype(str) # df.astype(np.float64)#lues.as_int#('int')#.to_numpy()\n",
    "distances=distances.replace('km', '', regex=True)\n",
    "distances=distances.astype(np.float64)\n",
    "distances.shape\n",
    "# distances.to_numpy()"
   ]
  },
  {
   "cell_type": "code",
   "execution_count": 7,
   "metadata": {
    "id": "rycCRzD8FD5H"
   },
   "outputs": [],
   "source": [
    "# data=pd.read_csv('/content/drive/MyDrive/hku/AXA/axa_ae_lung_all.txt.gz',sep='\\t')"
   ]
  },
  {
   "cell_type": "markdown",
   "metadata": {
    "id": "Mmz1jmG5DRZa"
   },
   "source": [
    "### Data visualization\n",
    "\n"
   ]
  },
  {
   "cell_type": "code",
   "execution_count": 8,
   "metadata": {
    "colab": {
     "base_uri": "https://localhost:8080/"
    },
    "id": "FSzMQwRO4qzW",
    "outputId": "b6a2a58e-e412-4312-ecd1-d3d788902161"
   },
   "outputs": [
    {
     "name": "stderr",
     "output_type": "stream",
     "text": [
      "/usr/local/lib/python3.7/dist-packages/ipykernel_launcher.py:2: SettingWithCopyWarning: \n",
      "A value is trying to be set on a copy of a slice from a DataFrame\n",
      "\n",
      "See the caveats in the documentation: https://pandas.pydata.org/pandas-docs/stable/user_guide/indexing.html#returning-a-view-versus-a-copy\n",
      "  \n",
      "/usr/local/lib/python3.7/dist-packages/pandas/core/generic.py:8870: SettingWithCopyWarning: \n",
      "A value is trying to be set on a copy of a slice from a DataFrame\n",
      "\n",
      "See the caveats in the documentation: https://pandas.pydata.org/pandas-docs/stable/user_guide/indexing.html#returning-a-view-versus-a-copy\n",
      "  return self._update_inplace(result)\n",
      "/usr/local/lib/python3.7/dist-packages/ipykernel_launcher.py:3: SettingWithCopyWarning: \n",
      "A value is trying to be set on a copy of a slice from a DataFrame\n",
      "\n",
      "See the caveats in the documentation: https://pandas.pydata.org/pandas-docs/stable/user_guide/indexing.html#returning-a-view-versus-a-copy\n",
      "  This is separate from the ipykernel package so we can avoid doing imports until\n"
     ]
    }
   ],
   "source": [
    "d8=d7[['date','pm25','pm10','o3','no2','so2','co','diag1','age','kmeans']]\n",
    "d8['diag1'][d8['diag1']!='COPD (496:1)']=0\n",
    "d8['diag1'][d8['diag1']=='COPD (496:1)']=1"
   ]
  },
  {
   "cell_type": "code",
   "execution_count": 9,
   "metadata": {
    "colab": {
     "base_uri": "https://localhost:8080/"
    },
    "id": "6cCuPby45dED",
    "outputId": "b4a1048e-2978-4925-a930-20253760d6f9"
   },
   "outputs": [
    {
     "name": "stderr",
     "output_type": "stream",
     "text": [
      "/usr/local/lib/python3.7/dist-packages/pandas/core/frame.py:5182: SettingWithCopyWarning: \n",
      "A value is trying to be set on a copy of a slice from a DataFrame\n",
      "\n",
      "See the caveats in the documentation: https://pandas.pydata.org/pandas-docs/stable/user_guide/indexing.html#returning-a-view-versus-a-copy\n",
      "  downcast=downcast,\n"
     ]
    }
   ],
   "source": [
    "d8.fillna(0,inplace=True)\n",
    "\n",
    "from sklearn.preprocessing import MinMaxScaler\n",
    "scaler = MinMaxScaler()\n",
    "\n",
    "df_scaled = pd.DataFrame(scaler.fit_transform(d8.drop(columns=['date','diag1','kmeans'])), columns=d8.columns.drop(['date','diag1','kmeans']))\n",
    "df_scaled['diag1']=d8['diag1']\n",
    "df_scaled['kmeans']=d8['kmeans']\n",
    "cols=df_scaled.columns\n",
    "df_scaled[cols] = df_scaled[cols].apply(pd.to_numeric, errors='coerce')\n",
    "df_scaled['date']=d8['date']"
   ]
  },
  {
   "cell_type": "code",
   "execution_count": 42,
   "metadata": {
    "colab": {
     "base_uri": "https://localhost:8080/",
     "height": 463
    },
    "id": "gTXLv3MODRZb",
    "outputId": "0b63d994-524c-4b1d-a4f8-4056f4b0a7c7"
   },
   "outputs": [
    {
     "data": {
      "text/plain": [
       "[<matplotlib.lines.Line2D at 0x7fedf9065790>,\n",
       " <matplotlib.lines.Line2D at 0x7fedf9065f10>,\n",
       " <matplotlib.lines.Line2D at 0x7fedf9063050>,\n",
       " <matplotlib.lines.Line2D at 0x7fedf9063dd0>,\n",
       " <matplotlib.lines.Line2D at 0x7fedf9063d10>]"
      ]
     },
     "execution_count": 42,
     "metadata": {},
     "output_type": "execute_result"
    },
    {
     "data": {
      "image/png": "[encoded data removed]",
      "text/plain": [
       "<Figure size 1296x432 with 1 Axes>"
      ]
     },
     "metadata": {
      "needs_background": "light"
     },
     "output_type": "display_data"
    }
   ],
   "source": [
    "plt.figure(figsize=(18, 6))\n",
    "plt.plot(df_scaled.iloc[:,1:6])\n",
    "# plt.plot(speeds_array[:, [0, -1]])\n",
    "# plt.legend([\"route_0\", \"route_25\"])"
   ]
  },
  {
   "cell_type": "code",
   "execution_count": 12,
   "metadata": {
    "id": "192GUeUApWhV"
   },
   "outputs": [],
   "source": [
    "\n",
    "shaperrr=df_scaled.pivot_table(columns='kmeans',values='age',index='date').fillna(method='ffill').shape\n",
    "jeff= np.empty(np.append(shaperrr,8))\n",
    "\n",
    "# dummyarray = np.empty((4,1))\n",
    "jeff[:] = np.nan\n",
    "\n",
    "# jeff = pd.DataFrame(jeff)\n",
    "for j,i in enumerate(df_scaled.columns.drop(['kmeans','date'])):\n",
    "  scaled=df_scaled.pivot_table(columns='kmeans',values=i,index='date')\n",
    "  scaled.fillna(method='bfill',inplace=True)#.shape\n",
    "  scaled.fillna(method='ffill',inplace=True) \n",
    "  scaled.dropna(how='any',axis=0,inplace=True)\n",
    "  # jeff=np.nanmean([jeff,scaled],axis=0)\n",
    "  jeff[:,:,j]=scaled\n",
    "\n",
    "jeff[:,:,7:][jeff[:,:,7:]>0]=1\n",
    "kevin=jeff[:,:,7:]\n",
    "jeff=jeff[:,:,:7]"
   ]
  },
  {
   "cell_type": "markdown",
   "metadata": {
    "id": "LwA-doR5DRZc"
   },
   "source": [
    "We can also visualize the correlation between the timeseries in different routes."
   ]
  },
  {
   "cell_type": "code",
   "execution_count": 13,
   "metadata": {
    "colab": {
     "base_uri": "https://localhost:8080/",
     "height": 322
    },
    "id": "vKeQs2_eDRZd",
    "outputId": "024c6643-c073-41a9-b87f-59c719570369"
   },
   "outputs": [
    {
     "data": {
      "text/plain": [
       "Text(0, 0.5, 'HK_AE cluster')"
      ]
     },
     "execution_count": 13,
     "metadata": {},
     "output_type": "execute_result"
    },
    {
     "data": {
      "text/plain": [
       "<Figure size 864x864 with 0 Axes>"
      ]
     },
     "metadata": {},
     "output_type": "display_data"
    },
    {
     "data": {
      "image/png": "[encoded data removed]",
      "text/plain": [
       "<Figure size 288x288 with 1 Axes>"
      ]
     },
     "metadata": {
      "needs_background": "light"
     },
     "output_type": "display_data"
    }
   ],
   "source": [
    "plt.figure(figsize=(12, 12))\n",
    "plt.matshow((distances.T))\n",
    "plt.xlabel(\"HK_AE cluster\")\n",
    "plt.ylabel(\"HK_AE cluster\")"
   ]
  },
  {
   "cell_type": "code",
   "execution_count": 34,
   "metadata": {
    "colab": {
     "base_uri": "https://localhost:8080/",
     "height": 391
    },
    "id": "BSPKdC2D-SKO",
    "outputId": "1e44972b-0993-4965-c3ff-c757d94f3c02"
   },
   "outputs": [
    {
     "data": {
      "image/png": "[encoded data removed]",
      "text/plain": [
       "<Figure size 360x360 with 1 Axes>"
      ]
     },
     "metadata": {},
     "output_type": "display_data"
    }
   ],
   "source": [
    "plt.figure(figsize=(5, 5))\n",
    "# colors = papers[\"subject\"].tolist()\n",
    "cc=JJJ.reset_index()[['index','kmeans{k}']]\n",
    "cc.rename(columns={'index':'source','kmeans{k}':'target'},inplace=True)\n",
    "cc['source']=cc['source'].astype('int')\n",
    "cc['target']=cc['target'].astype('int')\n",
    "\n",
    "cora_graph = nx.from_pandas_edgelist(cc)\n",
    "# subjects = list(papers[papers[\"paper_id\"].isin(list(cora_graph.nodes))][\"subject\"])\n",
    "nx.draw_spring(cora_graph, node_size=15)\n"
   ]
  },
  {
   "cell_type": "markdown",
   "metadata": {
    "id": "i9WqtHT6DRZe"
   },
   "source": [
    "### Splitting and normalizing data\n",
    "\n",
    "Next, we split the speed values array into train/validation/test sets,\n",
    "and normalize the resulting arrays:"
   ]
  },
  {
   "cell_type": "code",
   "execution_count": 44,
   "metadata": {
    "colab": {
     "base_uri": "https://localhost:8080/"
    },
    "id": "2yhrIn1RDRZf",
    "outputId": "f43230ae-4fd6-43c1-c758-0e32b9ebc61e"
   },
   "outputs": [
    {
     "name": "stdout",
     "output_type": "stream",
     "text": [
      "train X size: (1273, 12, 7)\n",
      "validation X size: (509, 12, 7)\n",
      "test X size: (765, 12, 7)\n",
      "train X size: (1273, 12, 1)\n",
      "validation X size: (509, 12, 1)\n",
      "test X size: (765, 12, 1)\n"
     ]
    },
    {
     "name": "stderr",
     "output_type": "stream",
     "text": [
      "/usr/local/lib/python3.7/dist-packages/ipykernel_launcher.py:26: RuntimeWarning: invalid value encountered in true_divide\n",
      "/usr/local/lib/python3.7/dist-packages/ipykernel_launcher.py:27: RuntimeWarning: invalid value encountered in true_divide\n",
      "/usr/local/lib/python3.7/dist-packages/ipykernel_launcher.py:28: RuntimeWarning: divide by zero encountered in true_divide\n",
      "/usr/local/lib/python3.7/dist-packages/ipykernel_launcher.py:28: RuntimeWarning: invalid value encountered in true_divide\n",
      "/usr/local/lib/python3.7/dist-packages/ipykernel_launcher.py:27: RuntimeWarning: divide by zero encountered in true_divide\n"
     ]
    }
   ],
   "source": [
    "train_size, val_size = 0.5, 0.2\n",
    "\n",
    "\n",
    "def preprocess(data_array: np.ndarray, train_size: float, val_size: float):\n",
    "    \"\"\"Splits data into train/val/test sets and normalizes the data.\n",
    "\n",
    "    Args:\n",
    "        data_array: ndarray of shape `(num_time_steps, num_routes)`\n",
    "        train_size: A float value between 0.0 and 1.0 that represent the proportion of the dataset\n",
    "            to include in the train split.\n",
    "        val_size: A float value between 0.0 and 1.0 that represent the proportion of the dataset\n",
    "            to include in the validation split.\n",
    "\n",
    "    Returns:\n",
    "        `train_array`, `val_array`, `test_array`\n",
    "    \"\"\"\n",
    "\n",
    "    num_time_steps = data_array.shape[0]\n",
    "    num_train, num_val = (\n",
    "        int(num_time_steps * train_size),\n",
    "        int(num_time_steps * val_size),\n",
    "    )\n",
    "    train_array = data_array[:num_train]\n",
    "    mean, std = train_array.mean(axis=0), train_array.std(axis=0)\n",
    "\n",
    "    train_array = (train_array - mean) / std\n",
    "    val_array = (data_array[num_train : (num_train + num_val)] - mean) / std\n",
    "    test_array = (data_array[(num_train + num_val) :] - mean) / std\n",
    "\n",
    "    return train_array, val_array, test_array\n",
    "\n",
    "\n",
    "train_array_X, val_array_X, test_array_X = preprocess(jeff, train_size, val_size)\n",
    "print(f\"train X size: {train_array_X.shape}\")\n",
    "print(f\"validation X size: {val_array_X.shape}\")\n",
    "print(f\"test X size: {test_array_X.shape}\")\n",
    "\n",
    "train_array_Y, val_array_Y, test_array_Y = preprocess(kevin, train_size, val_size)\n",
    "print(f\"train X size: {train_array_Y.shape}\")\n",
    "print(f\"validation X size: {val_array_Y.shape}\")\n",
    "print(f\"test X size: {test_array_Y.shape}\")\n"
   ]
  },
  {
   "cell_type": "code",
   "execution_count": 55,
   "metadata": {
    "id": "VNF7dC3gDRZh"
   },
   "outputs": [],
   "source": [
    "from tensorflow.keras.preprocessing import timeseries_dataset_from_array\n",
    "\n",
    "batch_size = 64\n",
    "input_sequence_length = 12\n",
    "forecast_horizon = 32\n",
    "multi_horizon = True\n",
    "\n",
    "\n",
    "def create_tf_dataset(\n",
    "    data_array: np.ndarray,\n",
    "    input_sequence_length: int,\n",
    "    forecast_horizon: int,\n",
    "    batch_size: int = 128,\n",
    "    shuffle=True,\n",
    "    multi_horizon=True,\n",
    "):\n",
    "    \"\"\"Creates tensorflow dataset from numpy array.\n",
    "\n",
    "    This function creates a dataset where each element is a tuple `(inputs, targets)`.\n",
    "    `inputs` is a Tensor\n",
    "    of shape `(batch_size, input_sequence_length, num_routes, 1)` containing\n",
    "    the `input_sequence_length` past values of the timeseries for each node.\n",
    "    `targets` is a Tensor of shape `(batch_size, forecast_horizon, num_routes)`\n",
    "    containing the `forecast_horizon`\n",
    "    future values of the timeseries for each node.\n",
    "\n",
    "    Args:\n",
    "        data_array: np.ndarray with shape `(num_time_steps, num_routes)`\n",
    "        input_sequence_length: Length of the input sequence (in number of timesteps).\n",
    "        forecast_horizon: If `multi_horizon=True`, the target will be the values of the timeseries for 1 to\n",
    "            `forecast_horizon` timesteps ahead. If `multi_horizon=False`, the target will be the value of the\n",
    "            timeseries `forecast_horizon` steps ahead (only one value).\n",
    "        batch_size: Number of timeseries samples in each batch.\n",
    "        shuffle: Whether to shuffle output samples, or instead draw them in chronological order.\n",
    "        multi_horizon: See `forecast_horizon`.\n",
    "\n",
    "    Returns:\n",
    "        A tf.data.Dataset instance.\n",
    "    \"\"\"\n",
    "\n",
    "    inputs = timeseries_dataset_from_array(\n",
    "        # np.expand_dims(data_array[:-forecast_horizon], axis=-1),\n",
    "        data_array,\n",
    "        None,\n",
    "        sequence_length=input_sequence_length,\n",
    "        shuffle=False,\n",
    "        batch_size=batch_size,\n",
    "    )\n",
    "\n",
    "    target_offset = (\n",
    "        input_sequence_length\n",
    "        if multi_horizon\n",
    "        else input_sequence_length + forecast_horizon - 1\n",
    "    )\n",
    "    target_seq_length = forecast_horizon if multi_horizon else 1\n",
    "    targets = timeseries_dataset_from_array(\n",
    "        data_array[target_offset:],\n",
    "        None,\n",
    "        sequence_length=target_seq_length,\n",
    "        shuffle=False,\n",
    "        batch_size=batch_size,\n",
    "    )\n",
    "\n",
    "    dataset = tf.data.Dataset.zip((inputs, targets))\n",
    "    if shuffle:\n",
    "        dataset = dataset.shuffle(100)\n",
    "\n",
    "    return dataset.prefetch(16).cache()\n",
    "\n",
    "\n",
    "train_dataset_X, val_dataset_X, train_dataset_Y, val_dataset_Y = (\n",
    "    create_tf_dataset(data_array, input_sequence_length, forecast_horizon, batch_size)\n",
    "    for data_array in [train_array_X, val_array_X, train_array_Y, val_array_Y]\n",
    ")\n",
    "\n",
    "test_dataset_X, test_dataset_Y = (\n",
    "    create_tf_dataset(test_array_X,input_sequence_length,forecast_horizon,batch_size=test_array_X.shape[0],shuffle=False,multi_horizon=multi_horizon)\n",
    "    for test_array in [test_array_X,test_array_Y]\n",
    ")\n",
    "    \n"
   ]
  },
  {
   "cell_type": "code",
   "execution_count": 56,
   "metadata": {
    "colab": {
     "base_uri": "https://localhost:8080/"
    },
    "id": "_WpOtD8B7kfB",
    "outputId": "cc2c6ff9-5935-4bc8-d627-66636c1cc24f"
   },
   "outputs": [
    {
     "data": {
      "text/plain": [
       "<CacheDataset element_spec=(TensorSpec(shape=(None, None, 12, 7), dtype=tf.float64, name=None), TensorSpec(shape=(None, None, 12, 7), dtype=tf.float64, name=None))>"
      ]
     },
     "execution_count": 56,
     "metadata": {},
     "output_type": "execute_result"
    }
   ],
   "source": [
    "train_dataset_X"
   ]
  },
  {
   "cell_type": "markdown",
   "metadata": {
    "id": "HFVkuEHCJJG7"
   },
   "source": [
    "##test"
   ]
  },
  {
   "cell_type": "code",
   "execution_count": 57,
   "metadata": {
    "colab": {
     "base_uri": "https://localhost:8080/"
    },
    "id": "9Rv_qUFVDRZj",
    "outputId": "3e09ba6d-620b-4961-fe6d-3f3f4a7d6a67"
   },
   "outputs": [
    {
     "name": "stdout",
     "output_type": "stream",
     "text": [
      "number of nodes: 12, number of edges: 30\n"
     ]
    }
   ],
   "source": [
    "\n",
    "class GraphInfo:\n",
    "    def __init__(self, edges: typing.Tuple[list, list], num_nodes: int):\n",
    "        self.edges = edges\n",
    "        self.num_nodes = num_nodes\n",
    "\n",
    "\n",
    "sigma2 = 0.1\n",
    "epsilon = 0.5\n",
    "adjacency_matrix = ((distances.iloc[:12,:12]<7.5)*1)#compute_adjacency_matrix(distances)#, sigma2, epsilon)\n",
    "node_indices, neighbor_indices = np.where(adjacency_matrix == 1)\n",
    "graph = GraphInfo(\n",
    "    edges=(node_indices.tolist(), neighbor_indices.tolist()),\n",
    "    num_nodes=adjacency_matrix.shape[0],\n",
    ")\n",
    "print(f\"number of nodes: {graph.num_nodes}, number of edges: {len(graph.edges[0])}\")"
   ]
  },
  {
   "cell_type": "markdown",
   "metadata": {
    "id": "VZtJjpi_DRZk"
   },
   "source": [
    "### Graph convolution layer\n",
    "\n",
    "Our implementation of the graph convolution layer resembles the implementation\n",
    "in [this Keras example](https://keras.io/examples/graph/gnn_citations/). Note that\n",
    "in that example input to the layer is a 2D tensor of shape `(num_nodes,in_feat)`\n",
    "but in our example the input to the layer is a 4D tensor of shape\n",
    "`(num_nodes, batch_size, input_seq_length, in_feat)`. The graph convolution layer\n",
    "performs the following steps:\n",
    "\n",
    "- The nodes' representations are computed in `self.compute_nodes_representation()`\n",
    "by multiplying the input features by `self.weight`\n",
    "- The aggregated neighbors' messages are computed in `self.compute_aggregated_messages()`\n",
    "by first aggregating the neighbors' representations and then multiplying the results by\n",
    "`self.weight`\n",
    "- The final output of the layer is computed in `self.update()` by combining the nodes\n",
    "representations and the neighbors' aggregated messages"
   ]
  },
  {
   "cell_type": "code",
   "execution_count": 58,
   "metadata": {
    "id": "Fy6W9zt4DRZk"
   },
   "outputs": [],
   "source": [
    "\n",
    "class GraphConv(layers.Layer):\n",
    "    def __init__(\n",
    "        self,\n",
    "        in_feat,\n",
    "        out_feat,\n",
    "        graph_info: GraphInfo,\n",
    "        aggregation_type=\"mean\",\n",
    "        combination_type=\"concat\",\n",
    "        activation: typing.Optional[str] = None,\n",
    "        **kwargs,\n",
    "    ):\n",
    "        super().__init__(**kwargs)\n",
    "        self.in_feat = in_feat\n",
    "        self.out_feat = out_feat\n",
    "        self.graph_info = graph_info\n",
    "        self.aggregation_type = aggregation_type\n",
    "        self.combination_type = combination_type\n",
    "        self.weight = tf.Variable(\n",
    "            initial_value=keras.initializers.glorot_uniform()(\n",
    "                shape=(in_feat, out_feat), dtype=\"float32\"\n",
    "            ),\n",
    "            trainable=True,\n",
    "        )\n",
    "        self.activation = layers.Activation(activation)\n",
    "\n",
    "    def aggregate(self, neighbour_representations: tf.Tensor):\n",
    "        aggregation_func = {\n",
    "            \"sum\": tf.math.unsorted_segment_sum,\n",
    "            \"mean\": tf.math.unsorted_segment_mean,\n",
    "            \"max\": tf.math.unsorted_segment_max,\n",
    "        }.get(self.aggregation_type)\n",
    "\n",
    "        if aggregation_func:\n",
    "            return aggregation_func(\n",
    "                neighbour_representations,\n",
    "                self.graph_info.edges[0],\n",
    "                num_segments=self.graph_info.num_nodes,\n",
    "            )\n",
    "\n",
    "        raise ValueError(f\"Invalid aggregation type: {self.aggregation_type}\")\n",
    "\n",
    "    def compute_nodes_representation(self, features: tf.Tensor):\n",
    "        \"\"\"Computes each node's representation.\n",
    "\n",
    "        The nodes' representations are obtained by multiplying the features tensor with\n",
    "        `self.weight`. Note that\n",
    "        `self.weight` has shape `(in_feat, out_feat)`.\n",
    "\n",
    "        Args:\n",
    "            features: Tensor of shape `(num_nodes, batch_size, input_seq_len, in_feat)`\n",
    "\n",
    "        Returns:\n",
    "            A tensor of shape `(num_nodes, batch_size, input_seq_len, out_feat)`\n",
    "        \"\"\"\n",
    "        return tf.matmul(features, self.weight)\n",
    "\n",
    "    def compute_aggregated_messages(self, features: tf.Tensor):\n",
    "        neighbour_representations = tf.gather(features, self.graph_info.edges[1])\n",
    "        aggregated_messages = self.aggregate(neighbour_representations)\n",
    "        return tf.matmul(aggregated_messages, self.weight)\n",
    "\n",
    "    def update(self, nodes_representation: tf.Tensor, aggregated_messages: tf.Tensor):\n",
    "        if self.combination_type == \"concat\":\n",
    "            h = tf.concat([nodes_representation, aggregated_messages], axis=-1)\n",
    "        elif self.combination_type == \"add\":\n",
    "            h = nodes_representation + aggregated_messages\n",
    "        else:\n",
    "            raise ValueError(f\"Invalid combination type: {self.combination_type}.\")\n",
    "\n",
    "        return self.activation(h)\n",
    "\n",
    "    def call(self, features: tf.Tensor):\n",
    "        \"\"\"Forward pass.\n",
    "\n",
    "        Args:\n",
    "            features: tensor of shape `(num_nodes, batch_size, input_seq_len, in_feat)`\n",
    "\n",
    "        Returns:\n",
    "            A tensor of shape `(num_nodes, batch_size, input_seq_len, out_feat)`\n",
    "        \"\"\"\n",
    "        nodes_representation = self.compute_nodes_representation(features)\n",
    "        aggregated_messages = self.compute_aggregated_messages(features)\n",
    "        return self.update(nodes_representation, aggregated_messages)\n"
   ]
  },
  {
   "cell_type": "code",
   "execution_count": 59,
   "metadata": {
    "id": "38IeaFOhDRZl"
   },
   "outputs": [],
   "source": [
    "class LSTMGC(layers.Layer):\n",
    "    \"\"\"Layer comprising a convolution layer followed by LSTM and dense layers.\"\"\"\n",
    "\n",
    "    def __init__(\n",
    "        self,\n",
    "        in_feat,\n",
    "        out_feat,\n",
    "        lstm_units: int,\n",
    "        input_seq_len: int,\n",
    "        output_seq_len: int,\n",
    "        graph_info: GraphInfo,\n",
    "        graph_conv_params: typing.Optional[dict] = None,\n",
    "        **kwargs,\n",
    "    ):\n",
    "        super().__init__(**kwargs)\n",
    "\n",
    "        # graph conv layer\n",
    "        if graph_conv_params is None:\n",
    "            graph_conv_params = {\n",
    "                \"aggregation_type\": \"mean\",\n",
    "                \"combination_type\": \"concat\",\n",
    "                \"activation\": None,\n",
    "            }\n",
    "        self.graph_conv = GraphConv(in_feat, out_feat, graph_info, **graph_conv_params)\n",
    "\n",
    "        self.lstm = layers.LSTM(lstm_units, activation=\"relu\")\n",
    "        self.dense = layers.Dense(output_seq_len)\n",
    "\n",
    "        self.input_seq_len, self.output_seq_len = input_seq_len, output_seq_len\n",
    "\n",
    "    def call(self, inputs):\n",
    "        \"\"\"Forward pass.\n",
    "\n",
    "        Args:\n",
    "            inputs: tf.Tensor of shape `(batch_size, input_seq_len, num_nodes, in_feat)`\n",
    "\n",
    "        Returns:\n",
    "            A tensor of shape `(batch_size, output_seq_len, num_nodes)`.\n",
    "        \"\"\"\n",
    "\n",
    "        # convert shape to  (num_nodes, batch_size, input_seq_len, in_feat)\n",
    "        inputs = tf.transpose(inputs, [2, 0, 1, 3])\n",
    "\n",
    "        gcn_out = self.graph_conv(\n",
    "            inputs\n",
    "        )  # gcn_out has shape: (num_nodes, batch_size, input_seq_len, out_feat)\n",
    "        shape = tf.shape(gcn_out)\n",
    "        num_nodes, batch_size, input_seq_len, out_feat = (\n",
    "            shape[0],\n",
    "            shape[1],\n",
    "            shape[2],\n",
    "            shape[3],\n",
    "        )\n",
    "\n",
    "        # LSTM takes only 3D tensors as input\n",
    "        gcn_out = tf.reshape(gcn_out, (batch_size * num_nodes, input_seq_len, out_feat))\n",
    "        lstm_out = self.lstm(\n",
    "            gcn_out\n",
    "        )  # lstm_out has shape: (batch_size * num_nodes, lstm_units)\n",
    "\n",
    "        dense_output = self.dense(\n",
    "            lstm_out\n",
    "        )  # dense_output has shape: (batch_size * num_nodes, output_seq_len)\n",
    "        output = tf.reshape(dense_output, (num_nodes, batch_size, self.output_seq_len))\n",
    "        return tf.transpose(\n",
    "            output, [1, 2, 0]\n",
    "        )  # returns Tensor of shape (batch_size, output_seq_len, num_nodes)"
   ]
  },
  {
   "cell_type": "code",
   "execution_count": 64,
   "metadata": {
    "colab": {
     "base_uri": "https://localhost:8080/",
     "height": 782
    },
    "id": "rJAno1BTDRZm",
    "outputId": "3d09f1fa-ab8b-4b9a-e7fc-0b8f9c844704"
   },
   "outputs": [
    {
     "name": "stdout",
     "output_type": "stream",
     "text": [
      "Epoch 1/20\n"
     ]
    },
    {
     "ename": "ValueError",
     "evalue": "ignored",
     "output_type": "error",
     "traceback": [
      "\u001b[0;31m---------------------------------------------------------------------------\u001b[0m",
      "\u001b[0;31mValueError\u001b[0m                                Traceback (most recent call last)",
      "\u001b[0;32m<ipython-input-64-b65beccea3dc>\u001b[0m in \u001b[0;36m<module>\u001b[0;34m()\u001b[0m\n\u001b[1;32m     34\u001b[0m     \u001b[0mvalidation_data\u001b[0m\u001b[0;34m=\u001b[0m\u001b[0mval_dataset_X\u001b[0m\u001b[0;34m,\u001b[0m\u001b[0;34m\u001b[0m\u001b[0;34m\u001b[0m\u001b[0m\n\u001b[1;32m     35\u001b[0m     \u001b[0mepochs\u001b[0m\u001b[0;34m=\u001b[0m\u001b[0mepochs\u001b[0m\u001b[0;34m,\u001b[0m\u001b[0;34m\u001b[0m\u001b[0;34m\u001b[0m\u001b[0m\n\u001b[0;32m---> 36\u001b[0;31m     \u001b[0mcallbacks\u001b[0m\u001b[0;34m=\u001b[0m\u001b[0;34m[\u001b[0m\u001b[0mkeras\u001b[0m\u001b[0;34m.\u001b[0m\u001b[0mcallbacks\u001b[0m\u001b[0;34m.\u001b[0m\u001b[0mEarlyStopping\u001b[0m\u001b[0;34m(\u001b[0m\u001b[0mpatience\u001b[0m\u001b[0;34m=\u001b[0m\u001b[0;36m10\u001b[0m\u001b[0;34m)\u001b[0m\u001b[0;34m]\u001b[0m\u001b[0;34m,\u001b[0m\u001b[0;34m\u001b[0m\u001b[0;34m\u001b[0m\u001b[0m\n\u001b[0m\u001b[1;32m     37\u001b[0m )\n",
      "\u001b[0;32m/usr/local/lib/python3.7/dist-packages/keras/utils/traceback_utils.py\u001b[0m in \u001b[0;36merror_handler\u001b[0;34m(*args, **kwargs)\u001b[0m\n\u001b[1;32m     65\u001b[0m     \u001b[0;32mexcept\u001b[0m \u001b[0mException\u001b[0m \u001b[0;32mas\u001b[0m \u001b[0me\u001b[0m\u001b[0;34m:\u001b[0m  \u001b[0;31m# pylint: disable=broad-except\u001b[0m\u001b[0;34m\u001b[0m\u001b[0;34m\u001b[0m\u001b[0m\n\u001b[1;32m     66\u001b[0m       \u001b[0mfiltered_tb\u001b[0m \u001b[0;34m=\u001b[0m \u001b[0m_process_traceback_frames\u001b[0m\u001b[0;34m(\u001b[0m\u001b[0me\u001b[0m\u001b[0;34m.\u001b[0m\u001b[0m__traceback__\u001b[0m\u001b[0;34m)\u001b[0m\u001b[0;34m\u001b[0m\u001b[0;34m\u001b[0m\u001b[0m\n\u001b[0;32m---> 67\u001b[0;31m       \u001b[0;32mraise\u001b[0m \u001b[0me\u001b[0m\u001b[0;34m.\u001b[0m\u001b[0mwith_traceback\u001b[0m\u001b[0;34m(\u001b[0m\u001b[0mfiltered_tb\u001b[0m\u001b[0;34m)\u001b[0m \u001b[0;32mfrom\u001b[0m \u001b[0;32mNone\u001b[0m\u001b[0;34m\u001b[0m\u001b[0;34m\u001b[0m\u001b[0m\n\u001b[0m\u001b[1;32m     68\u001b[0m     \u001b[0;32mfinally\u001b[0m\u001b[0;34m:\u001b[0m\u001b[0;34m\u001b[0m\u001b[0;34m\u001b[0m\u001b[0m\n\u001b[1;32m     69\u001b[0m       \u001b[0;32mdel\u001b[0m \u001b[0mfiltered_tb\u001b[0m\u001b[0;34m\u001b[0m\u001b[0;34m\u001b[0m\u001b[0m\n",
      "\u001b[0;32m/usr/local/lib/python3.7/dist-packages/tensorflow/python/framework/func_graph.py\u001b[0m in \u001b[0;36mautograph_handler\u001b[0;34m(*args, **kwargs)\u001b[0m\n\u001b[1;32m   1145\u001b[0m           \u001b[0;32mexcept\u001b[0m \u001b[0mException\u001b[0m \u001b[0;32mas\u001b[0m \u001b[0me\u001b[0m\u001b[0;34m:\u001b[0m  \u001b[0;31m# pylint:disable=broad-except\u001b[0m\u001b[0;34m\u001b[0m\u001b[0;34m\u001b[0m\u001b[0m\n\u001b[1;32m   1146\u001b[0m             \u001b[0;32mif\u001b[0m \u001b[0mhasattr\u001b[0m\u001b[0;34m(\u001b[0m\u001b[0me\u001b[0m\u001b[0;34m,\u001b[0m \u001b[0;34m\"ag_error_metadata\"\u001b[0m\u001b[0;34m)\u001b[0m\u001b[0;34m:\u001b[0m\u001b[0;34m\u001b[0m\u001b[0;34m\u001b[0m\u001b[0m\n\u001b[0;32m-> 1147\u001b[0;31m               \u001b[0;32mraise\u001b[0m \u001b[0me\u001b[0m\u001b[0;34m.\u001b[0m\u001b[0mag_error_metadata\u001b[0m\u001b[0;34m.\u001b[0m\u001b[0mto_exception\u001b[0m\u001b[0;34m(\u001b[0m\u001b[0me\u001b[0m\u001b[0;34m)\u001b[0m\u001b[0;34m\u001b[0m\u001b[0;34m\u001b[0m\u001b[0m\n\u001b[0m\u001b[1;32m   1148\u001b[0m             \u001b[0;32melse\u001b[0m\u001b[0;34m:\u001b[0m\u001b[0;34m\u001b[0m\u001b[0;34m\u001b[0m\u001b[0m\n\u001b[1;32m   1149\u001b[0m               \u001b[0;32mraise\u001b[0m\u001b[0;34m\u001b[0m\u001b[0;34m\u001b[0m\u001b[0m\n",
      "\u001b[0;31mValueError\u001b[0m: in user code:\n\n    File \"/usr/local/lib/python3.7/dist-packages/keras/engine/training.py\", line 1021, in train_function  *\n        return step_function(self, iterator)\n    File \"/usr/local/lib/python3.7/dist-packages/keras/engine/training.py\", line 1010, in step_function  **\n        outputs = model.distribute_strategy.run(run_step, args=(data,))\n    File \"/usr/local/lib/python3.7/dist-packages/keras/engine/training.py\", line 1000, in run_step  **\n        outputs = model.train_step(data)\n    File \"/usr/local/lib/python3.7/dist-packages/keras/engine/training.py\", line 860, in train_step\n        loss = self.compute_loss(x, y, y_pred, sample_weight)\n    File \"/usr/local/lib/python3.7/dist-packages/keras/engine/training.py\", line 919, in compute_loss\n        y, y_pred, sample_weight, regularization_losses=self.losses)\n    File \"/usr/local/lib/python3.7/dist-packages/keras/engine/compile_utils.py\", line 201, in __call__\n        loss_value = loss_obj(y_t, y_p, sample_weight=sw)\n    File \"/usr/local/lib/python3.7/dist-packages/keras/losses.py\", line 141, in __call__\n        losses = call_fn(y_true, y_pred)\n    File \"/usr/local/lib/python3.7/dist-packages/keras/losses.py\", line 245, in call  **\n        return ag_fn(y_true, y_pred, **self._fn_kwargs)\n    File \"/usr/local/lib/python3.7/dist-packages/keras/losses.py\", line 1329, in mean_squared_error\n        return backend.mean(tf.math.squared_difference(y_pred, y_true), axis=-1)\n\n    ValueError: Dimensions must be equal, but are 32 and 12 for '{{node mean_squared_error/SquaredDifference}} = SquaredDifference[T=DT_FLOAT](model_2/lstmgc_2/transpose_1, Cast)' with input shapes: [?,32,12], [?,?,12,7].\n"
     ]
    }
   ],
   "source": [
    "in_feat = train_array_X.shape[2]\n",
    "batch_size = 64\n",
    "epochs = 20\n",
    "input_sequence_length = train_array_X.shape[0]\n",
    "forecast_horizon = 32\n",
    "multi_horizon = False\n",
    "out_feat = 1\n",
    "lstm_units = 64\n",
    "graph_conv_params = {\n",
    "    \"aggregation_type\": \"mean\",\n",
    "    \"combination_type\": \"concat\",\n",
    "    \"activation\": None,\n",
    "}\n",
    "\n",
    "st_gcn = LSTMGC(\n",
    "    in_feat,\n",
    "    out_feat,\n",
    "    lstm_units,\n",
    "    input_sequence_length,\n",
    "    forecast_horizon,\n",
    "    graph,\n",
    "    graph_conv_params,\n",
    ")\n",
    "inputs = layers.Input((input_sequence_length, graph.num_nodes, in_feat))\n",
    "outputs = st_gcn(inputs)\n",
    "\n",
    "model = keras.models.Model(inputs, outputs)\n",
    "model.compile(\n",
    "    optimizer=keras.optimizers.RMSprop(learning_rate=0.0002),\n",
    "    loss=keras.losses.MeanSquaredError(),\n",
    ")\n",
    "model.fit(\n",
    "    train_dataset_X,\n",
    "    validation_data=val_dataset_X,\n",
    "    epochs=epochs,\n",
    "    callbacks=[keras.callbacks.EarlyStopping(patience=10)],\n",
    ")"
   ]
  },
  {
   "cell_type": "code",
   "execution_count": 62,
   "metadata": {
    "colab": {
     "base_uri": "https://localhost:8080/"
    },
    "id": "i7FQtDMs-lNy",
    "outputId": "7ea448af-f337-4f2a-e359-9e5b0b9d68eb"
   },
   "outputs": [
    {
     "data": {
      "text/plain": [
       "<CacheDataset element_spec=(TensorSpec(shape=(None, None, 12, 7), dtype=tf.float64, name=None), TensorSpec(shape=(None, None, 12, 7), dtype=tf.float64, name=None))>"
      ]
     },
     "execution_count": 62,
     "metadata": {},
     "output_type": "execute_result"
    }
   ],
   "source": [
    "val_dataset_X"
   ]
  },
  {
   "cell_type": "code",
   "execution_count": 63,
   "metadata": {
    "colab": {
     "base_uri": "https://localhost:8080/"
    },
    "id": "y0KlXlp1-kKB",
    "outputId": "0ab3d794-c77e-4f73-cff4-2d51f14f5bf6"
   },
   "outputs": [
    {
     "data": {
      "text/plain": [
       "<CacheDataset element_spec=(TensorSpec(shape=(None, None, 12, 7), dtype=tf.float64, name=None), TensorSpec(shape=(None, None, 12, 7), dtype=tf.float64, name=None))>"
      ]
     },
     "execution_count": 63,
     "metadata": {},
     "output_type": "execute_result"
    }
   ],
   "source": [
    "train_dataset_X"
   ]
  },
  {
   "cell_type": "code",
   "execution_count": null,
   "metadata": {
    "id": "vz4yuDq5DRZn"
   },
   "outputs": [],
   "source": [
    "x_test, y = next(test_dataset.as_numpy_iterator())\n",
    "y_pred = model.predict(x_test)\n",
    "plt.figure(figsize=(18, 6))\n",
    "plt.plot(y[:, 0, 0])\n",
    "plt.plot(y_pred[:, 0, 0])\n",
    "plt.legend([\"actual\", \"forecast\"])\n",
    "\n",
    "naive_mse, model_mse = (\n",
    "    np.square(x_test[:, -1, :, 0] - y[:, 0, :]).mean(),\n",
    "    np.square(y_pred[:, 0, :] - y[:, 0, :]).mean(),\n",
    ")\n",
    "print(f\"naive MAE: {naive_mse}, model MAE: {model_mse}\")"
   ]
  },
  {
   "cell_type": "code",
   "execution_count": null,
   "metadata": {
    "id": "B0qmvGWaj4nY"
   },
   "outputs": [],
   "source": []
  }
 ],
 "metadata": {
  "colab": {
   "collapsed_sections": [],
   "include_colab_link": true,
   "name": "DC_ts_pollution_forecast",
   "provenance": []
  },
  "gpuClass": "standard",
  "kernelspec": {
   "display_name": "Python 3 (ipykernel)",
   "language": "python",
   "name": "python3"
  },
  "language_info": {
   "codemirror_mode": {
    "name": "ipython",
    "version": 3
   },
   "file_extension": ".py",
   "mimetype": "text/x-python",
   "name": "python",
   "nbconvert_exporter": "python",
   "pygments_lexer": "ipython3",
   "version": "3.8.13"
  }
 },
 "nbformat": 4,
 "nbformat_minor": 4
}
