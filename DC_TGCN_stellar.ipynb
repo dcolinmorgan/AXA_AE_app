{
  "cells": [
    {
      "cell_type": "markdown",
      "metadata": {
        "id": "view-in-github",
        "colab_type": "text"
      },
      "source": [
        "<a href=\"https://colab.research.google.com/github/dcolinmorgan/AXA_AE_app/blob/main/DM_TGCN_stellar.ipynb\" target=\"_parent\"><img src=\"https://colab.research.google.com/assets/colab-badge.svg\" alt=\"Open In Colab\"/></a>"
      ]
    },
    {
      "cell_type": "markdown",
      "metadata": {
        "id": "nJUvu7-P981f"
      },
      "source": [
        "# Forecasting using spatio-temporal data with combined Graph Convolution + LSTM model"
      ]
    },
    {
      "cell_type": "code",
      "execution_count": 1,
      "metadata": {
        "nbsphinx": "hidden",
        "tags": [
          "CloudRunner"
        ],
        "id": "gfRVKyXf981m",
        "colab": {
          "base_uri": "https://localhost:8080/"
        },
        "outputId": "387353fc-2c12-4082-ae7c-e97787b37dc3"
      },
      "outputs": [
        {
          "output_type": "stream",
          "name": "stdout",
          "text": [
            "\u001b[K     |████████████████████████████████| 435 kB 29.4 MB/s \n",
            "\u001b[K     |████████████████████████████████| 482 kB 31.4 MB/s \n",
            "\u001b[K     |████████████████████████████████| 41 kB 606 kB/s \n",
            "\u001b[?25h  Building wheel for mplleaflet (setup.py) ... \u001b[?25l\u001b[?25hdone\n"
          ]
        }
      ],
      "source": [
        "# install StellarGraph if running on Google Colab\n",
        "import sys\n",
        "if 'google.colab' in sys.modules:\n",
        "  %pip install -q stellargraph[demos]==1.2.1"
      ]
    },
    {
      "cell_type": "code",
      "execution_count": 2,
      "metadata": {
        "nbsphinx": "hidden",
        "tags": [
          "VersionCheck"
        ],
        "id": "RkArKfcz981n"
      },
      "outputs": [],
      "source": [
        "# verify that we're using the correct version of StellarGraph for this notebook\n",
        "import stellargraph as sg\n",
        "\n",
        "try:\n",
        "    sg.utils.validate_notebook_version(\"1.2.1\")\n",
        "except AttributeError:\n",
        "    raise ValueError(\n",
        "        f\"This notebook requires StellarGraph version 1.2.1, but a different version {sg.__version__} is installed.  Please see <https://github.com/stellargraph/stellargraph/issues/1172>.\"\n",
        "    ) from None"
      ]
    },
    {
      "cell_type": "code",
      "execution_count": 40,
      "metadata": {
        "id": "QNdKkxWB981o"
      },
      "outputs": [],
      "source": [
        "import os,sys,glob\n",
        "import urllib.request\n",
        "from geopy.geocoders import Nominatim\n",
        "import geopy.distance\n",
        "import numpy as np\n",
        "import matplotlib.pyplot as plt\n",
        "import matplotlib.lines as mlines\n",
        "import pandas as pd\n",
        "import tensorflow as tf\n",
        "from tensorflow import keras\n",
        "from tensorflow.keras import Sequential, Model\n",
        "from tensorflow.keras.layers import LSTM, Dense, Dropout, Input"
      ]
    },
    {
      "cell_type": "markdown",
      "metadata": {
        "id": "n6mZEfnT981p"
      },
      "source": [
        "## Loading and preprocessing the data"
      ]
    },
    {
      "cell_type": "code",
      "execution_count": 4,
      "metadata": {
        "id": "sgo0Q9xZ981q"
      },
      "outputs": [],
      "source": [
        "import stellargraph as sg"
      ]
    },
    {
      "cell_type": "markdown",
      "metadata": {
        "id": "97V2QI0z981r"
      },
      "source": [
        "This demo is based on the preprocessed version of the dataset used by the TGCN paper."
      ]
    },
    {
      "cell_type": "code",
      "execution_count": 5,
      "metadata": {
        "id": "auet-8bP981r",
        "colab": {
          "base_uri": "https://localhost:8080/"
        },
        "outputId": "71d18e38-7304-4ab6-eed9-c6c3f94f020f"
      },
      "outputs": [
        {
          "output_type": "stream",
          "name": "stderr",
          "text": [
            "/usr/local/lib/python3.7/dist-packages/ipykernel_launcher.py:1: ExperimentalWarning: METR_LA is experimental: tests and documentation missing (see: https://github.com/stellargraph/stellargraph/issues/1303). It may be difficult to use and may have major changes at any time.\n",
            "  \"\"\"Entry point for launching an IPython kernel.\n"
          ]
        }
      ],
      "source": [
        "dataset = sg.datasets.METR_LA()"
      ]
    },
    {
      "cell_type": "markdown",
      "metadata": {
        "tags": [
          "DataLoadingLinks"
        ],
        "id": "s6E7mVkr981r"
      },
      "source": [
        "(See [the \"Loading from Pandas\" demo](../basics/loading-pandas.ipynb) for details on how data can be loaded.)"
      ]
    },
    {
      "cell_type": "code",
      "execution_count": 61,
      "metadata": {
        "tags": [
          "DataLoading"
        ],
        "id": "d5rzcYs2981s",
        "outputId": "cf649902-cdbc-4913-fb43-4048407fb90d",
        "colab": {
          "base_uri": "https://localhost:8080/"
        }
      },
      "outputs": [
        {
          "output_type": "stream",
          "name": "stdout",
          "text": [
            "No. of sensors: 207 \n",
            "No of timesteps: 2016\n"
          ]
        }
      ],
      "source": [
        "speed_data, sensor_dist_adj = dataset.load()\n",
        "num_nodes, time_len = speed_data.shape\n",
        "print(\"No. of sensors:\", num_nodes, \"\\nNo of timesteps:\", time_len)"
      ]
    },
    {
      "cell_type": "code",
      "source": [
        "[speed_data.shape,sensor_dist_adj.shape]"
      ],
      "metadata": {
        "colab": {
          "base_uri": "https://localhost:8080/"
        },
        "id": "nlhBgEYKEo38",
        "outputId": "18e869f7-dde1-4e1f-edbe-2ae50d2e0fab"
      },
      "execution_count": 62,
      "outputs": [
        {
          "output_type": "execute_result",
          "data": {
            "text/plain": [
              "[(207, 2016), (207, 207)]"
            ]
          },
          "metadata": {},
          "execution_count": 62
        }
      ]
    },
    {
      "cell_type": "markdown",
      "metadata": {
        "id": "ghhxs9dj981t"
      },
      "source": [
        "**Let's look at a sample of speed data.**"
      ]
    },
    {
      "cell_type": "code",
      "execution_count": null,
      "metadata": {
        "id": "vaICHBGt981t"
      },
      "outputs": [],
      "source": [
        "# !wget https://github.com/dcolinmorgan/AXA_AE_app/raw/main/axa_p.zip\n",
        "# !7z x /content/axa_p.zip\n",
        "# df2=pd.read_parquet('/content/AE_AXA_dat_full.parquet')\n",
        "\n",
        "# !git clone https://github.com/dcolinmorgan/aqi-stations-scraper.git\n",
        "\n",
        "# list_a = ['pneumonia', 'COPD','asthma','resp','lung','pulm']#,'~Cancer']\n",
        "# list_b = ['Cancer']\n",
        "df2.columns=['pat_id','cd9_loc','sess','sex','age','cd9_code','mini_loc','loc1','date','tmp','diag1','diag2','tmp']\n",
        "\n",
        "# df2=df[df['diag1'].isin(list_a)]\n",
        "# df2 = df[df['diag1'].str.contains('|'.join(list_a))]\n",
        "\n",
        "# df.diag1, df.diag2 = np.where(df.diag1.str.contains('None'), [df.diag2, df.diag1], [df.diag1, df.diag2])\n",
        "# del df['sess'], df['tmp'], df['diag2']\n",
        "# df=df[~df['diag1'].isna()]\n",
        "\n",
        "# df2 = df[df['diag1'].str.contains('|'.join(list_a))]\n",
        "\n",
        "df2.replace({'RH':'Ruttonjee Hospital'},inplace=True)\n",
        "df2.replace({'PYN':'Pamela Youde Nethersole Eastern Hospital'},inplace=True)\n",
        "df2.replace({'QEH':'Queen Elizabeth Hospital'},inplace=True)\n",
        "df2.replace({'CMC':'Caritas Medical Centre'},inplace=True)\n",
        "df2.replace({'KWH':'Kwong Wah Hospital'},inplace=True)\n",
        "df2.replace({'TMH':'Tuen Mun Hospital'},inplace=True)\n",
        "df2.replace({'PWH':'Prince of Wales Hospital'},inplace=True)\n",
        "df2.replace({'NDH':'North District Hospital'},inplace=True)\n",
        "df2.replace({'YCH':'Yan Chai Hospital'},inplace=True)\n",
        "df2.replace({'UCH':'United Christian Hospital'},inplace=True)\n",
        "df2.replace({'QMH':'Queen Mary Hospital'},inplace=True)\n",
        "df2.replace({'PWH':'Princess Margaret Hospital'},inplace=True)\n",
        "df2.replace({'POH':'Pok Oi Hospital'},inplace=True)\n",
        "df2.replace({'TKO':'Tseung Kwan O Hospital'},inplace=True)\n",
        "df2.replace({'AHN':'Alice Ho Miu Ling Nethersole Hospital'},inplace=True)\n",
        "df2.replace({'SJH':'St. John Hospital'},inplace=True)\n",
        "df2.replace({'NLT':'North Lantau Hospital'},inplace=True)\n",
        "df2.replace({'TSH':'Tang Shiu Kin Hospital'},inplace=True)\n",
        "df2.replace({'PMH':'Princess Margaret Hospital'},inplace=True)\n",
        "\n",
        "\n",
        "#organize\n",
        "cc=pd.DataFrame()#(columns=['date','pm25','pm10','o3','no2','so2','co','loc'])\n",
        "files=glob.glob('/content/aqi-stations-scraper/data/japan-aqi/*')\n",
        "for file in files:\n",
        "    data=pd.read_csv(file,sep=' |,')\n",
        "    data['loc1']=os.path.basename(file).split(',')[0]\n",
        "    cc=cc.append(data)\n",
        "\n",
        "data2=cc[['date','pm25','pm10','o3','no2','so2','co','loc1']]\n",
        "data2['loc1']=data2['loc1'].str.upper().replace({'-':' '},regex=True)\n",
        "data2['date']=pd.to_datetime(data2['date'])\n",
        "\n",
        "geolocator = Nominatim(user_agent=\"example app\")\n",
        "df_loc=pd.DataFrame(columns=['lat','long','name'])\n",
        "for ii,i in enumerate(pd.unique(df2['cd9_loc'])):\n",
        "    a,b,c=geolocator.geocode(str(i)+\", Hong Kong\").point\n",
        "    df_loc[ii]=[a,b,i]\n",
        "df_loc=df_loc.transpose()\n",
        "df_loc.columns=['lat','long','name']\n",
        "df_loc=df_loc[3:]\n",
        "\n",
        "\n",
        "data2.replace('CENTRALNAYA STR','central',inplace=True)\n",
        "data2.replace('SOUTHERN','southern island',inplace=True)\n",
        "data2.replace('SOUTHERN PART OF CHENGYANG DISTRICT','chengyang district',inplace=True)\n",
        "\n",
        "data_loc=pd.DataFrame(columns=['lat','long','name'])\n",
        "for ii,i in enumerate(pd.unique(data2['loc1'])):\n",
        "    try:\n",
        "        a,b,c=geolocator.geocode(str(i)+\", Hong Kong\").point\n",
        "    except AttributeError:\n",
        "        print('no location data for: '+str(i))\n",
        "    data_loc[ii]=[a,b,i]\n",
        "data_loc=data_loc.transpose()\n",
        "data_loc.columns=['lat','long','name']\n",
        "data_loc=data_loc[3:]\n",
        "\n",
        "data_loc=data_loc[~data_loc.duplicated(['lat','long'],keep='first')]\n",
        "data_loc.reset_index(inplace=True)\n",
        "\n",
        "data_loc=df_loc.append(data_loc)[['lat','long','name']]\n",
        "2\n",
        "data_loc.reset_index(inplace=True)\n",
        "\n",
        "\n",
        "# geopy DOES use latlon configuration\n",
        "data_loc['latlon'] = list(zip(data_loc['lat'], data_loc['long']))\n",
        "square = pd.DataFrame(\n",
        "    np.zeros((data_loc.shape[0], data_loc.shape[0])),\n",
        "    index=data_loc.index, columns=data_loc.index\n",
        ")\n",
        "\n",
        "# replacing distance.vicenty with distance.distance\n",
        "def get_distance(col):\n",
        "    end = data_loc.loc[col.name, 'latlon']\n",
        "    return data_loc['latlon'].apply(geopy.distance.distance,\n",
        "                              args=(end,),\n",
        "                              ellipsoid='WGS-84'\n",
        "                             )\n",
        "\n",
        "distances = square.apply(get_distance, axis=1).T\n",
        "\n",
        "data_loc['src']=data_loc['name']\n",
        "data_loc['dst']=data_loc['name']\n",
        "\n",
        "# np.sum((distances<5)*1)\n",
        "D_D=pd.DataFrame((distances<5)*1)\n",
        "D_D.index=data_loc['src']\n",
        "D_D.columns=data_loc['dst']\n",
        "\n",
        "E_E=pd.DataFrame(D_D.stack())#.reset_index(inplace=True)\n",
        "# E_E.rename=['source','target']#.reset_index(inplace=True)#.rename(columns={'level_0':'Source','level_1':'Target', 0:'Weight'})\n",
        "E_E.reset_index(inplace=True)#\n",
        "distance_mat=E_E[E_E[0]>0]\n",
        "\n",
        "distance=distances\n",
        "distance.index=data_loc['src']\n",
        "distance.columns=data_loc['dst']\n",
        "distance=pd.DataFrame(distance.stack())\n",
        "distance.reset_index(inplace=True)\n",
        "\n",
        "#prepare for TF\n",
        "\n",
        "distances=distances.astype(str) # df.astype(np.float64)#lues.as_int#('int')#.to_numpy()\n",
        "distances=distances.replace('km', '', regex=True)\n",
        "distances=distances.astype(np.float64)\n",
        "\n",
        "distances.to_numpy()"
      ]
    },
    {
      "cell_type": "code",
      "source": [
        "speed_data=(df2.pivot_table(values='diag1', index='date', columns='cd9_loc', aggfunc='count').fillna(0).values)\n",
        "speed_data=(np.repeat(speed_data,2,axis=1))\n",
        "speed_data=pd.DataFrame(speed_data[:,:-1].T)\n",
        "sensor_dist_adj=distances\n",
        "[speed_data.shape,sensor_dist_adj.shape]"
      ],
      "metadata": {
        "colab": {
          "base_uri": "https://localhost:8080/"
        },
        "id": "Sr5RCnXdFt0I",
        "outputId": "c2d44451-21aa-4595-94ea-7cd9c5a9d4f2"
      },
      "execution_count": 65,
      "outputs": [
        {
          "output_type": "execute_result",
          "data": {
            "text/plain": [
              "[(35, 3502), (35, 35)]"
            ]
          },
          "metadata": {},
          "execution_count": 65
        }
      ]
    },
    {
      "cell_type": "markdown",
      "metadata": {
        "id": "mVcRQtb3981u"
      },
      "source": [
        "As you can see above, there are 2016 observations (timesteps) of speed records over 207 sensors. Speeds are recorded every 5 minutes.  This means that, for a single hour, you will have 12 observations. Similarly, a single day will contain 288 (12x24) observations. Overall, the data consists of speeds recorded every 5 minutes over 207  for 7 days (12X24X7).\n",
        "\n",
        "### Forecasting with spatio-temporal data as a supervised learning problem \n",
        "\n",
        "Time series forecasting problem can be cast as a supervised learning problem. We can do this by using previous timesteps as input features and use the next timestep as the output to predict. Then, the spatio-temporal forecasting question can be modeled as predicting the feature value in the future, given the historical values of the feature for that entity  as well as the feature values of the entities \"connected\" to the entity.  For example, the speed prediction problem, the historical speeds of the sensors are the timeseries and the distance between the sensors is the indicator for connectivity or closeness of sensors."
      ]
    },
    {
      "cell_type": "markdown",
      "metadata": {
        "id": "3l7haKPD981u"
      },
      "source": [
        "### Train/test split\n",
        "\n",
        "Just like for modeling any standard supervised learning problem, we first split the data into mutually exclusive train and test sets. However, unlike, a standard supervised learning problem,  in timeseries analysis, the data is in some chronological time respecting order and the train/test happens along the timeline. Lets say, we use the first `T_t` observations for training and the remaining `T - T_t` of the  total `T` observations for testing.  \n",
        "\n",
        "In the following we use first 80% observations for training and the rest for testing."
      ]
    },
    {
      "cell_type": "code",
      "execution_count": 66,
      "metadata": {
        "id": "tCQOtkto981u"
      },
      "outputs": [],
      "source": [
        "def train_test_split(data, train_portion):\n",
        "    time_len = data.shape[1]\n",
        "    train_size = int(time_len * train_portion)\n",
        "    train_data = np.array(data.iloc[:, :train_size])\n",
        "    test_data = np.array(data.iloc[:, train_size:])\n",
        "    return train_data, test_data"
      ]
    },
    {
      "cell_type": "code",
      "execution_count": 67,
      "metadata": {
        "id": "HWz-jKtG981v"
      },
      "outputs": [],
      "source": [
        "train_rate = 0.8"
      ]
    },
    {
      "cell_type": "code",
      "execution_count": 69,
      "metadata": {
        "id": "bHwjgTsM981v",
        "outputId": "d3be56bf-0e1c-4fdd-b879-8d12069dec49",
        "colab": {
          "base_uri": "https://localhost:8080/"
        }
      },
      "outputs": [
        {
          "output_type": "stream",
          "name": "stdout",
          "text": [
            "Train data:  (35, 2801)\n",
            "Test data:  (35, 701)\n"
          ]
        }
      ],
      "source": [
        "train_data, test_data = train_test_split(speed_data, train_rate)\n",
        "print(\"Train data: \", train_data.shape)\n",
        "print(\"Test data: \", test_data.shape)"
      ]
    },
    {
      "cell_type": "markdown",
      "metadata": {
        "id": "G5WoDwWi981v"
      },
      "source": [
        "### Scaling\n",
        "It is generally a good practice to  rescale the data from the original range so that all values are within the range of 0 and 1. Normalization can be useful and even necessary when your time series data has input values with differing scales.  In the following we normalize the speed timeseries by the maximum and minimum values of speeds in the train data. \n",
        "\n",
        "Note: `MinMaxScaler` in `scikit learn` library is typically used for transforming data. However, in timeseries data since the features are distinct timesteps, so using the historical range of values in a particular timestep as the range of values in later timesteps, may not be correct.  Hence, we use the maximum and the minimum of the entire range of values in the timeseries to scale and transform the train and test sets respectively."
      ]
    },
    {
      "cell_type": "code",
      "execution_count": 70,
      "metadata": {
        "id": "GOXjd8Rj981v"
      },
      "outputs": [],
      "source": [
        "def scale_data(train_data, test_data):\n",
        "    max_speed = train_data.max()\n",
        "    min_speed = train_data.min()\n",
        "    train_scaled = (train_data - min_speed) / (max_speed - min_speed)\n",
        "    test_scaled = (test_data - min_speed) / (max_speed - min_speed)\n",
        "    return train_scaled, test_scaled"
      ]
    },
    {
      "cell_type": "code",
      "execution_count": 71,
      "metadata": {
        "id": "pLTE726q981w"
      },
      "outputs": [],
      "source": [
        "train_scaled, test_scaled = scale_data(train_data, test_data)"
      ]
    },
    {
      "cell_type": "markdown",
      "metadata": {
        "id": "InbPPENX981w"
      },
      "source": [
        "### Sequence data preparation for LSTM\n",
        "\n",
        "We first need to prepare the data to be fed into an LSTM. \n",
        "The LSTM model learns a function that maps a sequence of past observations as input to an output observation. As such, the sequence of observations must be transformed into multiple examples from which the LSTM can learn.\n",
        "\n",
        "To make it concrete in terms of the speed prediction problem, we choose to use 50 minutes of historical speed observations to predict the speed in future, lets say, 1 hour ahead. Hence, we would first  reshape the timeseries data into windows of 10 historical observations for each segment as the input and the speed 60 minutes later is the label we are interested in predicting. We use the sliding window approach to prepare the data. This is how it works:  \n",
        "\n",
        "* Starting from the beginning of the timeseries, we take the first 10 speed records as the 10 input features and the speed 12 timesteps head (60 minutes) as the speed we want to predict. \n",
        "* Shift the timeseries by one timestep and take the 10 observations from the current point as the input features and the speed one hour ahead as the output to predict. \n",
        "* Keep shifting by 1 timestep and picking the 10 timestep window from the current time as input feature and the speed one hour ahead of the 10th timestep as the output to predict, for the entire data.\n",
        "* The above steps are done for each sensor. \n",
        "\n",
        "The function below returns the above transformed timeseries data for the model to train on. The parameter `seq_len` is the size of the past window of information. The `pre_len` is how far in the future does the model need to learn to predict. \n",
        "\n",
        "For this demo: \n",
        "\n",
        "* Each training observation are 10 historical speeds (`seq_len`).\n",
        "* Each training prediction is the speed 60 minutes later (`pre_len`)."
      ]
    },
    {
      "cell_type": "code",
      "execution_count": 72,
      "metadata": {
        "id": "lVeINr6f981w"
      },
      "outputs": [],
      "source": [
        "seq_len = 10\n",
        "pre_len = 12"
      ]
    },
    {
      "cell_type": "code",
      "execution_count": 73,
      "metadata": {
        "id": "kkxVnYZG981x"
      },
      "outputs": [],
      "source": [
        "def sequence_data_preparation(seq_len, pre_len, train_data, test_data):\n",
        "    trainX, trainY, testX, testY = [], [], [], []\n",
        "\n",
        "    for i in range(train_data.shape[1] - int(seq_len + pre_len - 1)):\n",
        "        a = train_data[:, i : i + seq_len + pre_len]\n",
        "        trainX.append(a[:, :seq_len])\n",
        "        trainY.append(a[:, -1])\n",
        "\n",
        "    for i in range(test_data.shape[1] - int(seq_len + pre_len - 1)):\n",
        "        b = test_data[:, i : i + seq_len + pre_len]\n",
        "        testX.append(b[:, :seq_len])\n",
        "        testY.append(b[:, -1])\n",
        "\n",
        "    trainX = np.array(trainX)\n",
        "    trainY = np.array(trainY)\n",
        "    testX = np.array(testX)\n",
        "    testY = np.array(testY)\n",
        "\n",
        "    return trainX, trainY, testX, testY"
      ]
    },
    {
      "cell_type": "code",
      "execution_count": 74,
      "metadata": {
        "id": "2l2eO7JH981x",
        "outputId": "234d4430-c401-4f58-940f-71b57bbb3476",
        "colab": {
          "base_uri": "https://localhost:8080/"
        }
      },
      "outputs": [
        {
          "output_type": "stream",
          "name": "stdout",
          "text": [
            "(2780, 35, 10)\n",
            "(2780, 35)\n",
            "(680, 35, 10)\n",
            "(680, 35)\n"
          ]
        }
      ],
      "source": [
        "trainX, trainY, testX, testY = sequence_data_preparation(\n",
        "    seq_len, pre_len, train_scaled, test_scaled\n",
        ")\n",
        "print(trainX.shape)\n",
        "print(trainY.shape)\n",
        "print(testX.shape)\n",
        "print(testY.shape)"
      ]
    },
    {
      "cell_type": "markdown",
      "metadata": {
        "id": "xrtDNEyw981x"
      },
      "source": [
        "## StellarGraph Graph Convolution and LSTM model"
      ]
    },
    {
      "cell_type": "code",
      "execution_count": 75,
      "metadata": {
        "id": "dV8_6HA5981x"
      },
      "outputs": [],
      "source": [
        "from stellargraph.layer import GCN_LSTM"
      ]
    },
    {
      "cell_type": "code",
      "execution_count": 76,
      "metadata": {
        "id": "5_qgJfZ4981y",
        "colab": {
          "base_uri": "https://localhost:8080/"
        },
        "outputId": "73e2f2ec-638e-4c09-aad1-34b71f935989"
      },
      "outputs": [
        {
          "output_type": "stream",
          "name": "stderr",
          "text": [
            "/usr/local/lib/python3.7/dist-packages/ipykernel_launcher.py:7: ExperimentalWarning: GCN_LSTM is experimental: Lack of unit tests and code refinement (see: https://github.com/stellargraph/stellargraph/issues/1132, https://github.com/stellargraph/stellargraph/issues/1526, https://github.com/stellargraph/stellargraph/issues/1564). It may be difficult to use and may have major changes at any time.\n",
            "  import sys\n"
          ]
        }
      ],
      "source": [
        "gcn_lstm = GCN_LSTM(\n",
        "    seq_len=seq_len,\n",
        "    adj=sensor_dist_adj,\n",
        "    gc_layer_sizes=[16, 10],\n",
        "    gc_activations=[\"relu\", \"relu\"],\n",
        "    lstm_layer_sizes=[200, 200],\n",
        "    lstm_activations=[\"tanh\", \"tanh\"],\n",
        ")"
      ]
    },
    {
      "cell_type": "code",
      "execution_count": 77,
      "metadata": {
        "id": "0idgO5d-981y"
      },
      "outputs": [],
      "source": [
        "x_input, x_output = gcn_lstm.in_out_tensors()"
      ]
    },
    {
      "cell_type": "code",
      "execution_count": 78,
      "metadata": {
        "id": "va2IaK74981y"
      },
      "outputs": [],
      "source": [
        "model = Model(inputs=x_input, outputs=x_output)"
      ]
    },
    {
      "cell_type": "code",
      "execution_count": 79,
      "metadata": {
        "id": "kBe57POM981y"
      },
      "outputs": [],
      "source": [
        "model.compile(optimizer=\"adam\", loss=\"mae\", metrics=[\"mse\"])"
      ]
    },
    {
      "cell_type": "code",
      "execution_count": 80,
      "metadata": {
        "id": "vr8nJcel981y"
      },
      "outputs": [],
      "source": [
        "history = model.fit(\n",
        "    trainX,\n",
        "    trainY,\n",
        "    epochs=100,\n",
        "    batch_size=60,\n",
        "    shuffle=True,\n",
        "    verbose=0,\n",
        "    validation_data=[testX, testY],\n",
        ")"
      ]
    },
    {
      "cell_type": "code",
      "execution_count": 81,
      "metadata": {
        "id": "g6ZWveJN981z",
        "outputId": "cd399415-5e09-41e1-e246-885d0c6d3965",
        "colab": {
          "base_uri": "https://localhost:8080/"
        }
      },
      "outputs": [
        {
          "output_type": "stream",
          "name": "stdout",
          "text": [
            "Model: \"model_1\"\n",
            "_________________________________________________________________\n",
            " Layer (type)                Output Shape              Param #   \n",
            "=================================================================\n",
            " input_3 (InputLayer)        [(None, 35, 10)]          0         \n",
            "                                                                 \n",
            " tf.expand_dims_1 (TFOpLambd  (None, 35, 10, 1)        0         \n",
            " a)                                                              \n",
            "                                                                 \n",
            " reshape_3 (Reshape)         (None, 35, 10)            0         \n",
            "                                                                 \n",
            " fixed_adjacency_graph_convo  (None, 35, 16)           1420      \n",
            " lution_2 (FixedAdjacencyGra                                     \n",
            " phConvolution)                                                  \n",
            "                                                                 \n",
            " fixed_adjacency_graph_convo  (None, 35, 10)           1420      \n",
            " lution_3 (FixedAdjacencyGra                                     \n",
            " phConvolution)                                                  \n",
            "                                                                 \n",
            " reshape_4 (Reshape)         (None, 35, 10, 1)         0         \n",
            "                                                                 \n",
            " permute_1 (Permute)         (None, 10, 35, 1)         0         \n",
            "                                                                 \n",
            " reshape_5 (Reshape)         (None, 10, 35)            0         \n",
            "                                                                 \n",
            " lstm_2 (LSTM)               (None, 10, 200)           188800    \n",
            "                                                                 \n",
            " lstm_3 (LSTM)               (None, 200)               320800    \n",
            "                                                                 \n",
            " dropout_1 (Dropout)         (None, 200)               0         \n",
            "                                                                 \n",
            " dense_1 (Dense)             (None, 35)                7035      \n",
            "                                                                 \n",
            "=================================================================\n",
            "Total params: 519,475\n",
            "Trainable params: 517,025\n",
            "Non-trainable params: 2,450\n",
            "_________________________________________________________________\n"
          ]
        }
      ],
      "source": [
        "model.summary()"
      ]
    },
    {
      "cell_type": "code",
      "execution_count": 82,
      "metadata": {
        "id": "NQ5BjL3B981z",
        "outputId": "7dacb3fb-eb10-40fe-e987-0a71cbf94acc",
        "colab": {
          "base_uri": "https://localhost:8080/"
        }
      },
      "outputs": [
        {
          "output_type": "stream",
          "name": "stdout",
          "text": [
            "Train loss:  0.05664994940161705 \n",
            "Test loss: 0.06071401387453079\n"
          ]
        }
      ],
      "source": [
        "print(\n",
        "    \"Train loss: \",\n",
        "    history.history[\"loss\"][-1],\n",
        "    \"\\nTest loss:\",\n",
        "    history.history[\"val_loss\"][-1],\n",
        ")"
      ]
    },
    {
      "cell_type": "code",
      "execution_count": 83,
      "metadata": {
        "id": "RfM7Gujo981z",
        "outputId": "03026533-0942-4daf-c682-b13619f34abd",
        "colab": {
          "base_uri": "https://localhost:8080/",
          "height": 585
        }
      },
      "outputs": [
        {
          "output_type": "display_data",
          "data": {
            "text/plain": [
              "<Figure size 504x576 with 2 Axes>"
            ],
            "image/png": "[encoded data removed]"
          },
          "metadata": {
            "needs_background": "light"
          }
        }
      ],
      "source": [
        "sg.utils.plot_history(history)"
      ]
    },
    {
      "cell_type": "code",
      "execution_count": 84,
      "metadata": {
        "id": "t6xGWIth981z"
      },
      "outputs": [],
      "source": [
        "ythat = model.predict(trainX)\n",
        "yhat = model.predict(testX)"
      ]
    },
    {
      "cell_type": "markdown",
      "metadata": {
        "id": "PGWhWtD59810"
      },
      "source": [
        "## Rescale values\n",
        "\n",
        "Rescale the predicted values to the original value range of the timeseries."
      ]
    },
    {
      "cell_type": "code",
      "execution_count": 85,
      "metadata": {
        "id": "KFxJucEG9810"
      },
      "outputs": [],
      "source": [
        "## Rescale values\n",
        "max_speed = train_data.max()\n",
        "min_speed = train_data.min()\n",
        "\n",
        "## actual train and test values\n",
        "train_rescref = np.array(trainY * max_speed)\n",
        "test_rescref = np.array(testY * max_speed)"
      ]
    },
    {
      "cell_type": "code",
      "execution_count": 86,
      "metadata": {
        "id": "Mdl5609M9810"
      },
      "outputs": [],
      "source": [
        "## Rescale model predicted values\n",
        "train_rescpred = np.array((ythat) * max_speed)\n",
        "test_rescpred = np.array((yhat) * max_speed)"
      ]
    },
    {
      "cell_type": "markdown",
      "metadata": {
        "id": "q0K9WGMX9810"
      },
      "source": [
        "## Measuring the performance of the model\n",
        "\n",
        "To understand how well the model is performing, we compare it against a naive benchmark.\n",
        "\n",
        "1. Naive prediction: using the most recently **observed** value as the predicted value. Note, that albeit being **naive** this is a very strong baseline to beat. Especially, when speeds are recorded at a 5 minutes granularity,  one does not expect many drastic changes within such a short period of time. Hence, for short-term predictions naive is a reasonable good guess."
      ]
    },
    {
      "cell_type": "markdown",
      "metadata": {
        "id": "K-81j5-39811"
      },
      "source": [
        "### Naive prediction benchmark (using latest observed value)"
      ]
    },
    {
      "cell_type": "code",
      "execution_count": 87,
      "metadata": {
        "id": "TLWN6hQH9811"
      },
      "outputs": [],
      "source": [
        "## Naive prediction benchmark (using previous observed value)\n",
        "\n",
        "testnpred = np.array(testX)[\n",
        "    :, :, -1\n",
        "]  # picking the last speed of the 10 sequence for each segment in each sample\n",
        "testnpredc = (testnpred) * max_speed"
      ]
    },
    {
      "cell_type": "code",
      "execution_count": 88,
      "metadata": {
        "id": "2m2RIKAW9811",
        "outputId": "f0ae60c4-8685-4514-a219-aba46588422b",
        "colab": {
          "base_uri": "https://localhost:8080/"
        }
      },
      "outputs": [
        {
          "output_type": "stream",
          "name": "stdout",
          "text": [
            "Total (ave) MAE for NN: 0.8416013151363136\n",
            "Total (ave) MAE for naive prediction: 1.0494117647058825\n",
            "Total (ave) MASE for per-segment NN/naive MAE: 0.7808631147268134\n",
            "...note that MASE<1 (for a given segment) means that the NN prediction is better than the naive prediction.\n"
          ]
        }
      ],
      "source": [
        "## Performance measures\n",
        "\n",
        "seg_mael = []\n",
        "seg_masel = []\n",
        "seg_nmael = []\n",
        "\n",
        "for j in range(testX.shape[-1]):\n",
        "\n",
        "    seg_mael.append(\n",
        "        np.mean(np.abs(test_rescref.T[j] - test_rescpred.T[j]))\n",
        "    )  # Mean Absolute Error for NN\n",
        "    seg_nmael.append(\n",
        "        np.mean(np.abs(test_rescref.T[j] - testnpredc.T[j]))\n",
        "    )  # Mean Absolute Error for naive prediction\n",
        "    if seg_nmael[-1] != 0:\n",
        "        seg_masel.append(\n",
        "            seg_mael[-1] / seg_nmael[-1]\n",
        "        )  # Ratio of the two: Mean Absolute Scaled Error\n",
        "    else:\n",
        "        seg_masel.append(np.NaN)\n",
        "\n",
        "print(\"Total (ave) MAE for NN: \" + str(np.mean(np.array(seg_mael))))\n",
        "print(\"Total (ave) MAE for naive prediction: \" + str(np.mean(np.array(seg_nmael))))\n",
        "print(\n",
        "    \"Total (ave) MASE for per-segment NN/naive MAE: \"\n",
        "    + str(np.nanmean(np.array(seg_masel)))\n",
        ")\n",
        "print(\n",
        "    \"...note that MASE<1 (for a given segment) means that the NN prediction is better than the naive prediction.\"\n",
        ")"
      ]
    },
    {
      "cell_type": "code",
      "execution_count": 89,
      "metadata": {
        "id": "4hc71SI59811",
        "outputId": "9580321f-8f6d-495d-c03f-29858235ad1d",
        "colab": {
          "base_uri": "https://localhost:8080/",
          "height": 295
        }
      },
      "outputs": [
        {
          "output_type": "display_data",
          "data": {
            "text/plain": [
              "<Figure size 432x288 with 1 Axes>"
            ],
            "image/png": "[encoded data removed]"
          },
          "metadata": {
            "needs_background": "light"
          }
        }
      ],
      "source": [
        "# plot violin plot of MAE for naive and NN predictions\n",
        "fig, ax = plt.subplots()\n",
        "# xl = minsl\n",
        "\n",
        "ax.violinplot(\n",
        "    list(seg_mael), showmeans=True, showmedians=False, showextrema=False, widths=1.0\n",
        ")\n",
        "\n",
        "ax.violinplot(\n",
        "    list(seg_nmael), showmeans=True, showmedians=False, showextrema=False, widths=1.0\n",
        ")\n",
        "\n",
        "line1 = mlines.Line2D([], [], label=\"NN\")\n",
        "line2 = mlines.Line2D([], [], color=\"C1\", label=\"Instantaneous\")\n",
        "\n",
        "ax.set_xlabel(\"Scaled distribution amplitude (after Gaussian convolution)\")\n",
        "ax.set_ylabel(\"Mean Absolute Error\")\n",
        "ax.set_title(\"Distribution over segments: NN pred (blue) and naive pred (orange)\")\n",
        "plt.legend(handles=(line1, line2), title=\"Prediction Model\", loc=2)\n",
        "plt.show()"
      ]
    },
    {
      "cell_type": "markdown",
      "metadata": {
        "id": "qiKK_osZ9812"
      },
      "source": [
        "#### Plot of actual and predicted speeds on a sample sensor"
      ]
    },
    {
      "cell_type": "code",
      "execution_count": 91,
      "metadata": {
        "id": "cBOw2ZuU9812",
        "outputId": "c252096f-b043-4f0d-afcf-92ea7dc641b8",
        "colab": {
          "base_uri": "https://localhost:8080/",
          "height": 497
        }
      },
      "outputs": [
        {
          "output_type": "display_data",
          "data": {
            "text/plain": [
              "<Figure size 1080x576 with 1 Axes>"
            ],
            "image/png": "[encoded data removed]"
          },
          "metadata": {
            "needs_background": "light"
          }
        }
      ],
      "source": [
        "##all test result visualization\n",
        "fig1 = plt.figure(figsize=(15, 8))\n",
        "#    ax1 = fig1.add_subplot(1,1,1)\n",
        "a_pred = test_rescpred[:, 10]\n",
        "a_true = test_rescref[:, 10]\n",
        "plt.plot(a_pred, \"r-\", label=\"prediction\")\n",
        "plt.plot(a_true, \"b-\", label=\"true\")\n",
        "plt.xlabel(\"time\")\n",
        "plt.ylabel(\"speed\")\n",
        "plt.legend(loc=\"best\", fontsize=10)\n",
        "plt.show()"
      ]
    },
    {
      "cell_type": "markdown",
      "metadata": {
        "nbsphinx": "hidden",
        "tags": [
          "CloudRunner"
        ],
        "id": "SuQjXAWW9812"
      },
      "source": [
        "<table><tr><td>Run the latest release of this notebook:</td><td><a href=\"https://mybinder.org/v2/gh/stellargraph/stellargraph/master?urlpath=lab/tree/demos/time-series/gcn-lstm-time-series.ipynb\" alt=\"Open In Binder\" target=\"_parent\"><img src=\"https://mybinder.org/badge_logo.svg\"/></a></td><td><a href=\"https://colab.research.google.com/github/stellargraph/stellargraph/blob/master/demos/time-series/gcn-lstm-time-series.ipynb\" alt=\"Open In Colab\" target=\"_parent\"><img src=\"https://colab.research.google.com/assets/colab-badge.svg\"/></a></td></tr></table>"
      ]
    }
  ],
  "metadata": {
    "kernelspec": {
      "display_name": "Python 3",
      "language": "python",
      "name": "python3"
    },
    "language_info": {
      "codemirror_mode": {
        "name": "ipython",
        "version": 3
      },
      "file_extension": ".py",
      "mimetype": "text/x-python",
      "name": "python",
      "nbconvert_exporter": "python",
      "pygments_lexer": "ipython3",
      "version": "3.6.9"
    },
    "colab": {
      "name": "DM_TGCN_stellar.ipynb",
      "provenance": [],
      "collapsed_sections": [],
      "include_colab_link": true
    },
    "accelerator": "GPU",
    "gpuClass": "standard"
  },
  "nbformat": 4,
  "nbformat_minor": 0
}